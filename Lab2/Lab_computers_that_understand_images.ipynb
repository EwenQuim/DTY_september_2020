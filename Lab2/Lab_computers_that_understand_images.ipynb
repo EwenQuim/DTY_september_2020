{
 "cells": [
  {
   "cell_type": "markdown",
   "metadata": {},
   "source": [
    "# Recognizing dogs and cats\n",
    "\n",
    "The purpose of this laboratory is to build a first end to end reflex-based AI model to teach computers to [**understand images**](https://www.ted.com/talks/fei_fei_li_how_we_re_teaching_computers_to_understand_pictures).\n",
    "\n",
    "In particular, the objective of this lab is to write an AI application able to recognize cats and dogs on images. Your application will take an image as input and will be able to say wheter the image contains a dog or a cat. You will work with the data of the [**Dogs vs Cats**](https://www.kaggle.com/c/dogs-vs-cats) competition from Kaggle. This competition was launched in 2013 and the first place was obtained by [Pierre Sermanet](https://research.google.com/pubs/PierreSermanet.html), actually Research Scientist at Google Brain, by using the [Overfeat](http://cilvr.nyu.edu/doku.php?id=software:overfeat:start#overfeatobject_recognizer_feature_extractor) deep learning library he wrote during his PhD at New York University under the supervision of [Yann Le Cun](http://yann.lecun.com/), Director of AI Research at Facebook. He obtained $1.09%$ of classification errors. Try to do your best to approach this score!!!\n",
    "\n",
    "Two approaches will be used to adress this problem :\n",
    "1. A traditional pattern recognition model in which hand-crafted features are extracted from images and used to represent them and to train classifiers.\n",
    "2. A modern representation learning approach in which deep convolutional neural networks (CNN) are used to learn the image representations.\n",
    "\n",
    " \n",
    "\n",
    "##  Learning outcomes\n",
    "+ Building an end to end supervised machine learning pipeline : input data (training set) preparation, training (model learning), validation sets, cross-validation, hyper-parameter tuning, evaluation on the testing dataset.\n",
    "+ Getting familiar with deep learning for image classification : model building and training, transfer learning, fine-tuning.\n",
    "+ Getting familiar with some well-known librairies:\n",
    "    + Machine learning : Scikit-learn ([http://scikit-learn.org/stable/](http://scikit-learn.org/stable/))\n",
    "    + Deep learning: Keras ([https://keras.io/](https://keras.io/))\n",
    "    + Computer vision : Scikit-image ([http://scikit-image.org/](http://scikit-image.org/) or OpenCV ([http://opencv.org/](http://opencv.org/))\n",
    "    \n",
    "**The final objective of this laboratory is to be aware to the potential but also to the limitations of reflex-based AI approaches towards visual recognition tasks.**\n",
    "    "
   ]
  },
  {
   "cell_type": "markdown",
   "metadata": {
    "collapsed": true
   },
   "source": [
    "## Part 0 : Requirements\n",
    "A set of packages will be useful to handle the first part of this study case.\n",
    "\n",
    "    pip install -r requirements.txt"
   ]
  },
  {
   "cell_type": "code",
   "execution_count": 47,
   "metadata": {
    "tags": []
   },
   "outputs": [
    {
     "output_type": "stream",
     "name": "stdout",
     "text": "Requirement already satisfied: matplotlib==3.3.1 in /Users/ewen/dev/dty/DTY_september_2020/env/lib/python3.8/site-packages (from -r requirements.txt (line 1)) (3.3.1)\nCollecting scipy==1.5.2\n  Using cached scipy-1.5.2-cp38-cp38-macosx_10_9_x86_64.whl (28.9 MB)\nRequirement already satisfied: scikit-image==0.17.2 in /Users/ewen/dev/dty/DTY_september_2020/env/lib/python3.8/site-packages (from -r requirements.txt (line 3)) (0.17.2)\nRequirement already satisfied: scikit-learn==0.23.2 in /Users/ewen/dev/dty/DTY_september_2020/env/lib/python3.8/site-packages (from -r requirements.txt (line 4)) (0.23.2)\nCollecting numpy==1.19.0\n  Using cached numpy-1.19.0-cp38-cp38-macosx_10_9_x86_64.whl (15.3 MB)\nRequirement already satisfied: tensorflow-cpu==2.3.0 in /Users/ewen/dev/dty/DTY_september_2020/env/lib/python3.8/site-packages (from -r requirements.txt (line 6)) (2.3.0)\nRequirement already satisfied: keras==2.4.3 in /Users/ewen/dev/dty/DTY_september_2020/env/lib/python3.8/site-packages (from -r requirements.txt (line 7)) (2.4.3)\nRequirement already satisfied: opencv-python==4.4.0.42 in /Users/ewen/dev/dty/DTY_september_2020/env/lib/python3.8/site-packages (from -r requirements.txt (line 8)) (4.4.0.42)\nRequirement already satisfied: opencv-contrib-python==4.4.0.42 in /Users/ewen/dev/dty/DTY_september_2020/env/lib/python3.8/site-packages (from -r requirements.txt (line 9)) (4.4.0.42)\nRequirement already satisfied: imutils==0.5.3 in /Users/ewen/dev/dty/DTY_september_2020/env/lib/python3.8/site-packages (from -r requirements.txt (line 10)) (0.5.3)\nRequirement already satisfied: certifi>=2020.06.20 in /Users/ewen/dev/dty/DTY_september_2020/env/lib/python3.8/site-packages (from matplotlib==3.3.1->-r requirements.txt (line 1)) (2020.6.20)\nRequirement already satisfied: cycler>=0.10 in /Users/ewen/dev/dty/DTY_september_2020/env/lib/python3.8/site-packages (from matplotlib==3.3.1->-r requirements.txt (line 1)) (0.10.0)\nRequirement already satisfied: pyparsing!=2.0.4,!=2.1.2,!=2.1.6,>=2.0.3 in /Users/ewen/dev/dty/DTY_september_2020/env/lib/python3.8/site-packages (from matplotlib==3.3.1->-r requirements.txt (line 1)) (2.4.7)\nRequirement already satisfied: pillow>=6.2.0 in /Users/ewen/dev/dty/DTY_september_2020/env/lib/python3.8/site-packages (from matplotlib==3.3.1->-r requirements.txt (line 1)) (7.2.0)\nRequirement already satisfied: python-dateutil>=2.1 in /Users/ewen/dev/dty/DTY_september_2020/env/lib/python3.8/site-packages (from matplotlib==3.3.1->-r requirements.txt (line 1)) (2.8.1)\nRequirement already satisfied: kiwisolver>=1.0.1 in /Users/ewen/dev/dty/DTY_september_2020/env/lib/python3.8/site-packages (from matplotlib==3.3.1->-r requirements.txt (line 1)) (1.2.0)\nRequirement already satisfied: PyWavelets>=1.1.1 in /Users/ewen/dev/dty/DTY_september_2020/env/lib/python3.8/site-packages (from scikit-image==0.17.2->-r requirements.txt (line 3)) (1.1.1)\nRequirement already satisfied: networkx>=2.0 in /Users/ewen/dev/dty/DTY_september_2020/env/lib/python3.8/site-packages (from scikit-image==0.17.2->-r requirements.txt (line 3)) (2.5)\nRequirement already satisfied: imageio>=2.3.0 in /Users/ewen/dev/dty/DTY_september_2020/env/lib/python3.8/site-packages (from scikit-image==0.17.2->-r requirements.txt (line 3)) (2.9.0)\nRequirement already satisfied: tifffile>=2019.7.26 in /Users/ewen/dev/dty/DTY_september_2020/env/lib/python3.8/site-packages (from scikit-image==0.17.2->-r requirements.txt (line 3)) (2020.9.3)\nRequirement already satisfied: joblib>=0.11 in /Users/ewen/dev/dty/DTY_september_2020/env/lib/python3.8/site-packages (from scikit-learn==0.23.2->-r requirements.txt (line 4)) (0.16.0)\nRequirement already satisfied: threadpoolctl>=2.0.0 in /Users/ewen/dev/dty/DTY_september_2020/env/lib/python3.8/site-packages (from scikit-learn==0.23.2->-r requirements.txt (line 4)) (2.1.0)\nRequirement already satisfied: grpcio>=1.8.6 in /Users/ewen/dev/dty/DTY_september_2020/env/lib/python3.8/site-packages (from tensorflow-cpu==2.3.0->-r requirements.txt (line 6)) (1.31.0)\nRequirement already satisfied: keras-preprocessing<1.2,>=1.1.1 in /Users/ewen/dev/dty/DTY_september_2020/env/lib/python3.8/site-packages (from tensorflow-cpu==2.3.0->-r requirements.txt (line 6)) (1.1.2)\nRequirement already satisfied: protobuf>=3.9.2 in /Users/ewen/dev/dty/DTY_september_2020/env/lib/python3.8/site-packages (from tensorflow-cpu==2.3.0->-r requirements.txt (line 6)) (3.13.0)\nRequirement already satisfied: google-pasta>=0.1.8 in /Users/ewen/dev/dty/DTY_september_2020/env/lib/python3.8/site-packages (from tensorflow-cpu==2.3.0->-r requirements.txt (line 6)) (0.2.0)\nRequirement already satisfied: tensorboard<3,>=2.3.0 in /Users/ewen/dev/dty/DTY_september_2020/env/lib/python3.8/site-packages (from tensorflow-cpu==2.3.0->-r requirements.txt (line 6)) (2.3.0)\nRequirement already satisfied: astunparse==1.6.3 in /Users/ewen/dev/dty/DTY_september_2020/env/lib/python3.8/site-packages (from tensorflow-cpu==2.3.0->-r requirements.txt (line 6)) (1.6.3)\nRequirement already satisfied: absl-py>=0.7.0 in /Users/ewen/dev/dty/DTY_september_2020/env/lib/python3.8/site-packages (from tensorflow-cpu==2.3.0->-r requirements.txt (line 6)) (0.10.0)\nRequirement already satisfied: wrapt>=1.11.1 in /Users/ewen/dev/dty/DTY_september_2020/env/lib/python3.8/site-packages (from tensorflow-cpu==2.3.0->-r requirements.txt (line 6)) (1.12.1)\nRequirement already satisfied: opt-einsum>=2.3.2 in /Users/ewen/dev/dty/DTY_september_2020/env/lib/python3.8/site-packages (from tensorflow-cpu==2.3.0->-r requirements.txt (line 6)) (3.3.0)\nRequirement already satisfied: gast==0.3.3 in /Users/ewen/dev/dty/DTY_september_2020/env/lib/python3.8/site-packages (from tensorflow-cpu==2.3.0->-r requirements.txt (line 6)) (0.3.3)\nRequirement already satisfied: tensorflow-estimator<2.4.0,>=2.3.0 in /Users/ewen/dev/dty/DTY_september_2020/env/lib/python3.8/site-packages (from tensorflow-cpu==2.3.0->-r requirements.txt (line 6)) (2.3.0)\nRequirement already satisfied: termcolor>=1.1.0 in /Users/ewen/dev/dty/DTY_september_2020/env/lib/python3.8/site-packages (from tensorflow-cpu==2.3.0->-r requirements.txt (line 6)) (1.1.0)\nRequirement already satisfied: wheel>=0.26 in /Users/ewen/dev/dty/DTY_september_2020/env/lib/python3.8/site-packages (from tensorflow-cpu==2.3.0->-r requirements.txt (line 6)) (0.35.1)\nRequirement already satisfied: six>=1.12.0 in /Users/ewen/dev/dty/DTY_september_2020/env/lib/python3.8/site-packages (from tensorflow-cpu==2.3.0->-r requirements.txt (line 6)) (1.15.0)\nRequirement already satisfied: h5py<2.11.0,>=2.10.0 in /Users/ewen/dev/dty/DTY_september_2020/env/lib/python3.8/site-packages (from tensorflow-cpu==2.3.0->-r requirements.txt (line 6)) (2.10.0)\nRequirement already satisfied: pyyaml in /Users/ewen/dev/dty/DTY_september_2020/env/lib/python3.8/site-packages (from keras==2.4.3->-r requirements.txt (line 7)) (5.3.1)\nRequirement already satisfied: decorator>=4.3.0 in /Users/ewen/dev/dty/DTY_september_2020/env/lib/python3.8/site-packages (from networkx>=2.0->scikit-image==0.17.2->-r requirements.txt (line 3)) (4.4.2)\nRequirement already satisfied: setuptools in /Users/ewen/dev/dty/DTY_september_2020/env/lib/python3.8/site-packages (from protobuf>=3.9.2->tensorflow-cpu==2.3.0->-r requirements.txt (line 6)) (49.6.0)\nRequirement already satisfied: tensorboard-plugin-wit>=1.6.0 in /Users/ewen/dev/dty/DTY_september_2020/env/lib/python3.8/site-packages (from tensorboard<3,>=2.3.0->tensorflow-cpu==2.3.0->-r requirements.txt (line 6)) (1.7.0)\nRequirement already satisfied: google-auth<2,>=1.6.3 in /Users/ewen/dev/dty/DTY_september_2020/env/lib/python3.8/site-packages (from tensorboard<3,>=2.3.0->tensorflow-cpu==2.3.0->-r requirements.txt (line 6)) (1.21.1)\nRequirement already satisfied: google-auth-oauthlib<0.5,>=0.4.1 in /Users/ewen/dev/dty/DTY_september_2020/env/lib/python3.8/site-packages (from tensorboard<3,>=2.3.0->tensorflow-cpu==2.3.0->-r requirements.txt (line 6)) (0.4.1)\nRequirement already satisfied: requests<3,>=2.21.0 in /Users/ewen/dev/dty/DTY_september_2020/env/lib/python3.8/site-packages (from tensorboard<3,>=2.3.0->tensorflow-cpu==2.3.0->-r requirements.txt (line 6)) (2.24.0)\nRequirement already satisfied: werkzeug>=0.11.15 in /Users/ewen/dev/dty/DTY_september_2020/env/lib/python3.8/site-packages (from tensorboard<3,>=2.3.0->tensorflow-cpu==2.3.0->-r requirements.txt (line 6)) (1.0.1)\nRequirement already satisfied: markdown>=2.6.8 in /Users/ewen/dev/dty/DTY_september_2020/env/lib/python3.8/site-packages (from tensorboard<3,>=2.3.0->tensorflow-cpu==2.3.0->-r requirements.txt (line 6)) (3.2.2)\nRequirement already satisfied: rsa<5,>=3.1.4; python_version >= \"3.5\" in /Users/ewen/dev/dty/DTY_september_2020/env/lib/python3.8/site-packages (from google-auth<2,>=1.6.3->tensorboard<3,>=2.3.0->tensorflow-cpu==2.3.0->-r requirements.txt (line 6)) (4.6)\nRequirement already satisfied: cachetools<5.0,>=2.0.0 in /Users/ewen/dev/dty/DTY_september_2020/env/lib/python3.8/site-packages (from google-auth<2,>=1.6.3->tensorboard<3,>=2.3.0->tensorflow-cpu==2.3.0->-r requirements.txt (line 6)) (4.1.1)\nRequirement already satisfied: pyasn1-modules>=0.2.1 in /Users/ewen/dev/dty/DTY_september_2020/env/lib/python3.8/site-packages (from google-auth<2,>=1.6.3->tensorboard<3,>=2.3.0->tensorflow-cpu==2.3.0->-r requirements.txt (line 6)) (0.2.8)\nRequirement already satisfied: requests-oauthlib>=0.7.0 in /Users/ewen/dev/dty/DTY_september_2020/env/lib/python3.8/site-packages (from google-auth-oauthlib<0.5,>=0.4.1->tensorboard<3,>=2.3.0->tensorflow-cpu==2.3.0->-r requirements.txt (line 6)) (1.3.0)\nRequirement already satisfied: idna<3,>=2.5 in /Users/ewen/dev/dty/DTY_september_2020/env/lib/python3.8/site-packages (from requests<3,>=2.21.0->tensorboard<3,>=2.3.0->tensorflow-cpu==2.3.0->-r requirements.txt (line 6)) (2.10)\nRequirement already satisfied: urllib3!=1.25.0,!=1.25.1,<1.26,>=1.21.1 in /Users/ewen/dev/dty/DTY_september_2020/env/lib/python3.8/site-packages (from requests<3,>=2.21.0->tensorboard<3,>=2.3.0->tensorflow-cpu==2.3.0->-r requirements.txt (line 6)) (1.25.10)\nRequirement already satisfied: chardet<4,>=3.0.2 in /Users/ewen/dev/dty/DTY_september_2020/env/lib/python3.8/site-packages (from requests<3,>=2.21.0->tensorboard<3,>=2.3.0->tensorflow-cpu==2.3.0->-r requirements.txt (line 6)) (3.0.4)\nRequirement already satisfied: pyasn1>=0.1.3 in /Users/ewen/dev/dty/DTY_september_2020/env/lib/python3.8/site-packages (from rsa<5,>=3.1.4; python_version >= \"3.5\"->google-auth<2,>=1.6.3->tensorboard<3,>=2.3.0->tensorflow-cpu==2.3.0->-r requirements.txt (line 6)) (0.4.8)\nRequirement already satisfied: oauthlib>=3.0.0 in /Users/ewen/dev/dty/DTY_september_2020/env/lib/python3.8/site-packages (from requests-oauthlib>=0.7.0->google-auth-oauthlib<0.5,>=0.4.1->tensorboard<3,>=2.3.0->tensorflow-cpu==2.3.0->-r requirements.txt (line 6)) (3.1.0)\nInstalling collected packages: numpy, scipy\n  Attempting uninstall: numpy\n    Found existing installation: numpy 1.18.5\n    Uninstalling numpy-1.18.5:\n      Successfully uninstalled numpy-1.18.5\n  Attempting uninstall: scipy\n    Found existing installation: scipy 1.4.1\n    Uninstalling scipy-1.4.1:\n      Successfully uninstalled scipy-1.4.1\n\u001b[31mERROR: After October 2020 you may experience errors when installing or updating packages. This is because pip will change the way that it resolves dependency conflicts.\n\nWe recommend you use --use-feature=2020-resolver to test your packages with the new resolver before it becomes the default.\n\ntensorflow 2.3.0 requires numpy<1.19.0,>=1.16.0, but you'll have numpy 1.19.0 which is incompatible.\ntensorflow 2.3.0 requires scipy==1.4.1, but you'll have scipy 1.5.2 which is incompatible.\ntensorflow-cpu 2.3.0 requires numpy<1.19.0,>=1.16.0, but you'll have numpy 1.19.0 which is incompatible.\ntensorflow-cpu 2.3.0 requires scipy==1.4.1, but you'll have scipy 1.5.2 which is incompatible.\u001b[0m\nSuccessfully installed numpy-1.19.0 scipy-1.5.2\n"
    }
   ],
   "source": [
    "!pip3 install -r requirements.txt"
   ]
  },
  {
   "cell_type": "markdown",
   "metadata": {},
   "source": [
    "## Part 1 : A small tutorial on image classification\n",
    "\n",
    "In this section, we will briefly introduce the image classification problem which consists in assigning to an input image one label from a fixed set of labels and which is one of the big challenge of computer vision and artifial intelligence. In our case, we will only consider two labels $\\{dog, cat\\}$. This small tutorial also aims at familiarizing you with machine learning and computer vision librairies that we will used in this course :\n",
    "+ Scikit-Learn : [http://scikit-learn.org/stable/](http://scikit-learn.org/stable/)\n",
    "+ OpenCV : [http://opencv.org/](http://opencv.org/) or Scikit-image ([http://scikit-image.org/](http://scikit-image.org/)).\n",
    "\n",
    "![ImageCat](images/Diapositive1.jpg)\n",
    "\n",
    "While the task of image classification is very easy for a human, we have to face with several challenge to build our automatic recognition algorithm among whom:\n",
    "\n",
    "+ Viewpoint variation.\n",
    "+ Scale variation.\n",
    "+ Illumination conditions variation.\n",
    "+ Deformation.\n",
    "+ Occlusion.\n",
    "+ Backgroud clutter.\n",
    "+ Intraclass variation.\n",
    "\n",
    "![ImageCatwithvariations](./images/Diapositive2.jpg)\n",
    "\n",
    "![ImageCatwithocclusion](./images/Diapositive3.jpg)\n",
    "\n",
    "Source : Images from the CS231n course of Stanford (Convolutional Neural Networks for Visual Recognition)\n",
    "\n",
    "\n",
    "\n",
    "\n",
    "\n",
    "\n",
    "\n",
    "\n",
    "\n",
    "\n"
   ]
  },
  {
   "cell_type": "markdown",
   "metadata": {},
   "source": [
    "### A simple image classification pipeline\n",
    "\n",
    "To built our image classification algorithm, we will follow the principle of a machine learning approach for image classification which consists in :\n",
    "1. Collecting and preparing a dataset of images and their corresponding labels.\n",
    "2. Using a machine learning algorithm to train a classifier.\n",
    "3. Evaluate the classifier on new images.\n",
    "\n",
    "\n",
    "![ImageClassificationpipeline](images/testphase.png)"
   ]
  },
  {
   "cell_type": "markdown",
   "metadata": {},
   "source": [
    "#### Having a look on the available data\n",
    "\n",
    "First, you have to  download the dataset that will be used to train and test our model. Before downloading the data, create a subdirectory in your working folder called data. Then download [DataDogsCatsChallenge.zip](https://filesender.renater.fr/?s=download&token=cd3d55af-2563-47c4-af3c-28a4eba661e7) into that directory and unzip it. This dataset contains 25,000 labelled dog and cat photos available for training, and 12,500 in the test set that we have to try to label for the Kaggle competition.\n",
    "\n",
    "As we have seen in the lecture note, the standard practice in machine learning is to split the available data into at least two different subsets :\n",
    "+ The **training set** : to learn the model.\n",
    "+ The **testing set** : to evaluate the learned model.\n",
    "\n",
    "You have also seen that is the also standard to add a third set to the split to build a **validation set** that will be used to fine-tune the parameters of the model.\n",
    "\n",
    "I you have a look on the DogsCatsChallenge directory, you will see that the preparation of the data have been done and that the test and train sets are in separate subdirectories in which data for each category (cats and dogs) is also into subdirectories. Nevertheless, there is no validation set and one of your first task will be to build it.\n",
    "\n",
    "The archive also contains a directory named **sample**. Training and validating the entire dataset can take some time. Therefore, it is a good practice to run first your algorithm on a small sample of your training and validation data before to run it on the entire set of data.\n"
   ]
  },
  {
   "cell_type": "markdown",
   "metadata": {},
   "source": [
    "##### Image representation\n",
    "\n",
    "Your first task will be to built a representation of the data, i.e. a feature vector which values quantify the contents of the image. We will see latter that, using Deep Convolutional Neural Networks, we can learn an efficient representation directly using raw pixel intensities as inputs. Here, we will just represent the images by two alternative representations.\n",
    "+ A first representation is built using the raw data by simply resizing an input image to a fixed size (here $32 \\times 32$ pixels) and then by flattening the RBG pixel intensities into a single vectors of numbers.\n",
    "+ A second representation is built from the color histogram that characterizes the color distribution of the image. For this representation a color conversion into the HSV color space could be useful.\n",
    "\n",
    "**Complete the functions below to build such representations**\n",
    "\n",
    "Some helping functions :\n",
    "+ With Numpy:\n",
    "    + [Array flattening](https://docs.scipy.org/doc/numpy/reference/generated/numpy.ndarray.flatten.html)\n",
    "    \n",
    "+ With OpenCV:\n",
    "\n",
    "     + [Geometric transformations on images](http://docs.opencv.org/trunk/da/d6e/tutorial_py_geometric_transformations.html) \n",
    "     + [Colorspace conversion](http://docs.opencv.org/trunk/df/d9d/tutorial_py_colorspaces.html) \n",
    "     + [Histogram in OpenCV](http://docs.opencv.org/trunk/de/db2/tutorial_py_table_of_contents_histograms.html)\n",
    "    \n",
    "+ With Scikit-image :\n",
    "    + [Loading an image from a file](https://scikit-image.org/docs/stable/user_guide/data_types.html)\n",
    "    + [Image transformations](https://scikit-image.org/docs/dev/user_guide/transforming_image_data.html)\n",
    "    + [Colorspace conversion](https://scikit-image.org/docs/dev/user_guide/transforming_image_data.html#color-manipulation)\n",
    "     \n",
    "    "
   ]
  },
  {
   "cell_type": "markdown",
   "metadata": {},
   "source": [
    "Le code ci-dessous charge les dépendances utiles pour la suite."
   ]
  },
  {
   "cell_type": "markdown",
   "metadata": {},
   "source": [
    "#### Dataset prepatation and feature extraction\n",
    "The dataset has to be prepared for feature extraction :\n",
    "+ Three lists will be initialized to store the raw pixel representation, the color distribution (histogram) representation and the class labels themselves.\n",
    "+ Then, the lists will be completed by extracted the features from the dataset (don't forgot to begin by testing your program on the sample dataset before to apply it on the whole dataset).\n",
    "\n",
    "For this step, we can used the paths.py file [here](https://github.com/jrosebr1/imutils/blob/master/imutils/paths.py)\n",
    "\n",
    "\n"
   ]
  },
  {
   "cell_type": "code",
   "execution_count": 48,
   "metadata": {},
   "outputs": [],
   "source": [
    "from sklearn.neighbors import KNeighborsClassifier\n",
    "from sklearn.model_selection import train_test_split\n",
    "from imutils import paths\n",
    "import numpy as np\n",
    "from matplotlib import pyplot as plt\n",
    "import argparse\n",
    "import imutils\n",
    "import cv2 as cv\n",
    "import os"
   ]
  },
  {
   "cell_type": "code",
   "execution_count": 49,
   "metadata": {
    "tags": []
   },
   "outputs": [
    {
     "output_type": "execute_result",
     "data": {
      "text/plain": "512"
     },
     "metadata": {},
     "execution_count": 49
    }
   ],
   "source": [
    "def image_to_feature_vector(image, size=(32, 32)):\n",
    "    # resize the image to a fixed size, then flatten the image into a list of raw pixel intensities\n",
    "    if image is None:\n",
    "        return None\n",
    "    return cv.resize(image,size, interpolation = cv.INTER_CUBIC).flatten()\n",
    "\n",
    "def build_HSV_color_histogram_vector(image,bins=(8, 8, 8)):\n",
    "    # extract a 3D color histogram from the HSV color space using the supplied number of `bins` per channel and return it as a feature vector\n",
    "    hsv = cv.cvtColor(image, cv.COLOR_BGR2HSV)\n",
    "    hist = cv.calcHist([hsv], [0, 1, 2], None, bins, [0, 180, 0, 256, 0, 256])\n",
    "    cv.normalize(hist, hist)\n",
    "\n",
    "\t# return the flattened histogram as the feature vector\n",
    "    return hist.flatten()\n",
    "\n",
    "img = cv.imread('data/sample/train/cats/cat.394.jpg')\n",
    "#image_to_feature_vector(img)\n",
    "len(build_HSV_color_histogram_vector(img))"
   ]
  },
  {
   "cell_type": "code",
   "execution_count": 50,
   "metadata": {
    "tags": []
   },
   "outputs": [
    {
     "output_type": "stream",
     "name": "stdout",
     "text": "Describing images...\nDone\n"
    }
   ],
   "source": [
    "from paths import *\n",
    "import re\n",
    "\n",
    "print(\"Describing images...\")\n",
    "imagePaths = list(list_images('./data/sampleDeep'))[100:]\n",
    "\n",
    "# initialize the raw pixel intensities matrix, the features matrix and labels list\n",
    "rawImages_features = [image_to_feature_vector(cv.imread(img)) for img in imagePaths]\n",
    "histogram_features = [build_HSV_color_histogram_vector(cv.imread(img)) for img in imagePaths]\n",
    "labels = [(path.split('/')[-1]).split('.')[-3] for path in imagePaths]\n",
    "\n",
    "print('Done')\n"
   ]
  },
  {
   "cell_type": "markdown",
   "metadata": {},
   "source": [
    "#### Dataset splitting into training and validation dataset\n",
    "\n",
    "The last common step in machine learning will be to split the training dataset into training dataset and validation dataset. For this, you could use some functions from scikit-learn :\n",
    "\n",
    "  + [Cross validation](http://scikit-learn.org/stable/modules/cross_validation.html)\n",
    "    \n",
    "    \n",
    " In our case, the split of the dataset into training, validation and test set has been done but you can try to build another sample dataset using the fonctions of scikit-learn. In particular, if you are note familiar to **cross validation**, take the time to read carefully the previous documentation."
   ]
  },
  {
   "cell_type": "code",
   "execution_count": 51,
   "metadata": {},
   "outputs": [],
   "source": [
    "from sklearn.model_selection import train_test_split\n",
    "\n",
    "fRawTrain, fRawTest, labelRawTrain, labelRawTest = train_test_split(rawImages_features, labels, train_size=0.8)\n",
    "fHistTrain, fHistTest, labelHistTrain, labelHistTest = train_test_split(histogram_features, labels, train_size=0.8)"
   ]
  },
  {
   "cell_type": "markdown",
   "metadata": {},
   "source": [
    "#### Classification using the K-Nearest Neighbor (k-NN) classifier\n",
    "\n",
    "\n",
    "In order to build this simple image classification pipeline, you will use the k-Nearest Neighbor (k-NN) classifier which is a very simple machine learning/image classification approach, rarely used in practice but its simplicity will enable you to get quickly an idea of the image classification pipeline.\n",
    "\n",
    "The principle of the [k-NN classifier](https://en.wikipedia.org/wiki/K-nearest_neighbors_algorithm) can be summarize by the following principle : “Tell me who your neighbors are, and I’ll tell you who you are”. Given an unknown image and a training dataset, the k-NN classifier will compare this image to every single image of the training dataset and will predict the label by finding the most common class among the k-closest examples.\n",
    "\n",
    "Thus to apply the k-nearest Neighbor classification, we need to define a distance metric or a similarity function. For the sake of simplicity, here we will consider the euclidian distance but other distances can be used according to the targeted type of data.\n",
    "\n",
    "$d(\\mathbf{p},\\mathbf{q})=\\sqrt{\\sum_{i=1}^{N}(q_i-p_i)^2}$\n",
    "\n",
    "with $\\mathbf{p}$ and $\\mathbf{q}$ two data vectorial representations.\n",
    "\n",
    "You can now train and predict a k-Nearest Neighbor classifier on your different splits. Once again, we suggest you to have a look on the scikit-learn documentation :\n",
    "+ [KNeighborsClassifier](http://scikit-learn.org/stable/modules/generated/sklearn.neighbors.KNeighborsClassifier.html#sklearn.neighbors.KNeighborsClassifier)\n",
    "+ [Example](http://scikit-learn.org/stable/auto_examples/neighbors/plot_classification.html#sphx-glr-auto-examples-neighbors-plot-classification-py)\n",
    "+ [An introduction to machine learning with scikit-learn](http://scikit-learn.org/stable/tutorial/basic/tutorial.html#learning-and-predicting)\n"
   ]
  },
  {
   "cell_type": "code",
   "execution_count": 52,
   "metadata": {
    "tags": []
   },
   "outputs": [
    {
     "output_type": "stream",
     "name": "stdout",
     "text": "Raw pixel representation accuracy:\n0.5314814814814814\nColor histogram representation accuracy:\n0.5814814814814815\n"
    }
   ],
   "source": [
    "from sklearn.neighbors import KNeighborsClassifier\n",
    "\n",
    "# training and evaluation of a k-NN classifer on the raw pixel representation\n",
    "modelRaw = KNeighborsClassifier(n_neighbors=5)\n",
    "modelRaw.fit(fRawTrain, labelRawTrain)\n",
    "\n",
    "print(\"Raw pixel representation accuracy:\")\n",
    "print(modelRaw.score(fRawTest, labelRawTest))\n",
    "\n",
    "# training and evaluation of  a k-NN classifer on the color histogram representation\n",
    "\n",
    "# TO COMPLETE\n",
    "\n",
    "modelHist = KNeighborsClassifier()\n",
    "modelHist.fit(fHistTrain, labelHistTrain)\n",
    "print(\"Color histogram representation accuracy:\")\n",
    "print(modelHist.score(fHistTest, labelHistTest))\n"
   ]
  },
  {
   "cell_type": "markdown",
   "metadata": {},
   "source": [
    "**Take the time to compare and to discuss with the others your obtained score !**"
   ]
  },
  {
   "cell_type": "markdown",
   "metadata": {},
   "source": [
    "#### Validation sets for Hyperparameter tuning\n",
    "\n",
    "The k-nearest neighbor classifier requires a setting for k. What value have you chosen?  How ? Another parameter of this classifier is the choice of the distance functions we could have used. These choices are called **hyperparameters** and their setting is one of the main issue of the design of many Machine Learning algorithms.\n",
    "\n",
    "To choose these hyperparameter values, the principle is to try out many different values and to see what works best. The main question is on which data ? On the test set ? On the training set ? In fact, the idea is to split your training set in two: a slightly smaller training set, and what we call a **validation set** as explained in the course.\n",
    "\n",
    "The scikit-learn library has two methods that can perform hyperparameter search and optimization: **Grid search** and **Randomized Search**. Let's have a look on their documentations :\n",
    " + [Tuning the hyper-parameters of an estimator](http://scikit-learn.org/stable/modules/grid_search.html)\n",
    " \n",
    " \n",
    "You will now apply these two methods to tune the hyperparameters of our k-NN classifier :\n",
    " \n",
    "1. First, define a dictionary of parameters which contains two keys :\n",
    "     + `n_neighbors` the number of nearest neighbors $k$ in the k-NN algorithm that we will vary in the range $[1, 29]$ (if your sample dataset is sufficient)\n",
    "     + `metric` the distance function/similarity metric for k-NN that can be either the Euclidean distance either the Manhattan/City block distance.\n",
    "2. Then, apply Grid Search and Randomized Search\n",
    "\n"
   ]
  },
  {
   "cell_type": "code",
   "execution_count": 53,
   "metadata": {
    "tags": []
   },
   "outputs": [
    {
     "output_type": "error",
     "ename": "SyntaxError",
     "evalue": "invalid syntax (<ipython-input-53-0c264a6c94a0>, line 37)",
     "traceback": [
      "\u001b[0;36m  File \u001b[0;32m\"<ipython-input-53-0c264a6c94a0>\"\u001b[0;36m, line \u001b[0;32m37\u001b[0m\n\u001b[0;31m    param_distributions =\u001b[0m\n\u001b[0m                          ^\u001b[0m\n\u001b[0;31mSyntaxError\u001b[0m\u001b[0;31m:\u001b[0m invalid syntax\n"
     ]
    }
   ],
   "source": [
    "from sklearn.model_selection import RandomizedSearchCV\n",
    "from sklearn.model_selection import GridSearchCV, validation_curve\n",
    "import time\n",
    "\n",
    "# Validation Curve !\n",
    "#k = np.arange(1, 30, 1)\n",
    "#train_score, val_score = validation_curve(modelHist, fHistTrain, labelHistTrain, 'n_neighbors', k, cv=5)\n",
    "#plt.plot(k, val_score.mean(axis=1))\n",
    "\n",
    "\n",
    "# HISTO\n",
    "print(\"Building training/testing split...\")\n",
    "start = time.time()\n",
    "fHistTrain, fHistTest, labelHistTrain, labelHistTest = train_test_split(histogram_features, labels, train_size=0.8)\n",
    "print(\"Done (s) :\", time.time()-start)\n",
    "\n",
    "# HISTO: GRID\n",
    "# tune the hyperparameters via a cross-validated grid search of the KNN classifier on raw features\n",
    "print(\"Tuning hyperparameters via grid search on histo features\")\n",
    "start = time.time()\n",
    "params = {\"n_neighbors\": np.arange(1, 29, 1),\"metric\": [\"euclidean\", \"cityblock\"]}\n",
    "grid = GridSearchCV(KNeighborsClassifier(), params)\n",
    "\n",
    "grid.fit(fHistTrain, labelHistTrain)\n",
    "\n",
    "print(\n",
    "grid.best_score_,\n",
    "grid.best_params_,\n",
    "\"Done (s) :\", time.time()-start)\n",
    "\n",
    "modelHistBest = grid.best_estimator_\n",
    "print(\"Score of the best estimator\",  modelHistBest.score(fHistTest, labelHistTest) )\n",
    "\n",
    "\n",
    "# HISTO: Randomized Search\n",
    "print(\"Tuning hyperparameters via randomized search on histo features\")\n",
    "param_distributions = \n",
    "rando = RandomizedSearchCV(KNeighborsClassifier(), param_distributions)"
   ]
  },
  {
   "cell_type": "code",
   "execution_count": null,
   "metadata": {},
   "outputs": [],
   "source": [
    "grid.best_score_"
   ]
  },
  {
   "cell_type": "markdown",
   "metadata": {},
   "source": [
    "#### Cross-validation\n",
    "\n",
    "Sometimes, the size of your training data (and therefore also the validation data) is small and, in this case, the technique used for hyperparameter tuning is **cross-validation**. The main principle is to iterate over different validation sets and to average the performance across these. For example, in a 5-fold cross-validation, we split the training data into 5 equal folds, use 4 of them for training, and 1 for validation. We would then iterate over which fold is the validation fold, evaluate the performance, and finally average the performance across the different folds.\n",
    "\n",
    "The scikit-learn library has also methods for this kind of cross validation :\n",
    "+ [Cross-validation: evaluating estimator performance](http://scikit-learn.org/stable/modules/cross_validation.html#)\n",
    "\n",
    "Here, you will just apply  **m-fold cross validation**. In particular, you have to write a 10-fold cross-validation run for the parameter k of our k-NN algorithm on the training dataset. You will just consider old value of $k$ on the range $[1,29]$\n"
   ]
  },
  {
   "cell_type": "code",
   "execution_count": null,
   "metadata": {},
   "outputs": [],
   "source": [
    "from sklearn.model_selection import cross_val_score\n",
    "\n",
    "\n",
    "# creating odd list of K for KNN\n",
    "params = {\"n_neighbors\": np.arange(1, 29, 2)}\n",
    "\n",
    "# empty list that will hold cv scores\n",
    "cv_scores = []\n",
    "\n",
    "# perform 10-fold cross validation on the KNN classifier with raw features\n",
    "print(\" 10-fold cross validation on the KNN classifier with raw features\")\n",
    "\n",
    "# TO COMPLETE\n",
    "\n",
    "print(\"Plotting the misclassification error versus k\")\n",
    "    \n",
    "# changing to misclassification error\n",
    "MSE = [1 - x for x in cv_scores]\n",
    "\n",
    "# determining best k\n",
    "optimal_k =0\n",
    "# TO MODIFY\n",
    "print \"The optimal number of neighbors is %d\" % optimal_k\n",
    "\n",
    "# plot misclassification error vs k\n",
    "plt.plot(params[\"n_neighbors\"], MSE)\n",
    "plt.xlabel('Number of Neighbors K')\n",
    "plt.ylabel('Misclassification Error')\n",
    "plt.show()\n",
    "\n",
    "\n",
    "\n",
    "# empty list that will hold cv scores\n",
    "cv_scores = []\n",
    "\n",
    "# perform 10-fold cross validation on the KNN classifier with raw features\n",
    "print(\" 10-fold cross validation on the KNN classifier with hist features\")\n",
    "\n",
    "# TO COMPLETE\n",
    "\n",
    "print(\"Plotting the misclassification error versus k\")\n",
    "    \n",
    "# changing to misclassification error\n",
    "MSE = [1 - x for x in cv_scores]\n",
    "\n",
    "# determining best k\n",
    "optimal_k =0\n",
    "# TO MODIFY\n",
    "print \"The optimal number of neighbors is %d\" % optimal_k\n",
    "\n",
    "# plot misclassification error vs k\n",
    "plt.plot(params[\"n_neighbors\"], MSE)\n",
    "plt.xlabel('Number of Neighbors K')\n",
    "plt.ylabel('Misclassification Error')\n",
    "plt.show()\n",
    "\n",
    "\n",
    "\n",
    "\n"
   ]
  },
  {
   "cell_type": "markdown",
   "metadata": {},
   "source": [
    "\n",
    "#### Summary of Part 1\n",
    "\n",
    "    \n",
    "+ <span style=\"background-color:lightgreen\">Introduction of the problem of **Image Classification** </span>.\n",
    "+ <span style=\"background-color:lightgreen\">Introduction and building of a **first simple classifier: the k-NN classifier**.</span> As seen, this classifier is very simple to implement and understand and one of its advantage is that is take no time to train since the training step consists in the storing and the indexing of the training data. Nevertheless, the test time should be expensive since it consists in comparing the target data to every training data. **This behavior is contrary to what is expected** since, in practice, we are often more careful with the test time efficiency that to the training time one.\n",
    "+ <span style=\"background-color:lightgreen\">Introduction of the **supervised machine learning basic pipeline** : preparation of the data and splitting into **training, validation and test sets**, **training of a model** on a labelled training dataset, **hyperparameters tuning** on the validation set, **evaluation of the model accuracy** on the test set.</span>\n",
    "+ <span style=\"background-color:lightgreen\">Introduction to the **cross-validation** procedure.</span>\n"
   ]
  },
  {
   "cell_type": "markdown",
   "metadata": {},
   "source": [
    "<span style=\"background-color:lightblue\"> You have finished the part 1 ! Complete the dashboard on the global MsTeams team.</span>"
   ]
  },
  {
   "cell_type": "markdown",
   "metadata": {
    "collapsed": true
   },
   "source": [
    "## Part 2 : Using Hand-Crafted Features\n",
    "\n",
    "In this part, you will also follow the traditional image recognition approach but you will try to improve your image representation by using better features than the raw representation and the color distribution. Indeed, raw pixel data is hard to use for machine learning and for comparing images in general due to the different challenges explained before.\n",
    "As a consequence, the computer vision community had studied and proposed a wide range of robust and discriminative features such as HOG (Histogram of Oriented Gradients), SIFT (Scale-Invariant Feature Transform) or SURF(Speeded Up Robust Features) among others. These features are often refered as **hand-crafted features**. Have a look on the slides on a good tutorial on features for image classification at ECCV 2010 : [http://ufldl.stanford.edu/eccv10-tutorial/](http://ufldl.stanford.edu/eccv10-tutorial/).\n",
    "\n",
    "In this part, we will use the discriminative bag of visual words (BoVW) approach to represent the content of the target images.  Bag of visual words (BoVW) is a popular technique for image classification inspired by models used in natural language processing and texture recognition. BoVW downplays word arrangement (spatial information in the image) and classifies based on an histogram of the frequency of visual words in image content. The set of visual words forms a visual vocabulary, which is constructed by clustering a large corpus of features. A first step will thus consist in building a visual vocabulary by clustering a large set of local features (you will used DENSE SIFT) extracted from our training image corpus.\n",
    "\n",
    "![Visualvocabularypipeline](images/bagoffeatures_visualwordsoverview.png)\n",
    "\n",
    "Source : [mathwoks](https://fr.mathworks.com/help/vision/ug/image-classification-with-bag-of-visual-words.html?requestedDomain=www.mathworks.com)\n",
    "\n",
    "Then, the typical BoVW pipeline for representing an image consists in :\n",
    "1. extracting the local features from the image,\n",
    "2. encoding the local features to the corresponding visual words\n",
    "3. performing spatial pooling.\n",
    "\n",
    "Then, all the images of your training set are described with the BoVW representation and on the same way than in the previous part you can train any off-shelf classifier to classify images. Here you will train a SVM.\n",
    "\n",
    "![BovWrepresentation](images/yfA1C.png)\n",
    "\n",
    "For this part we suggest to use the OpenCV and scikit-learn libraries.\n",
    "\n",
    "Some documentation :\n",
    " + [Sift and OpenCV](https://docs.opencv.org/master/da/df5/tutorial_py_sift_intro.html)\n",
    " + A small tutorial on Bag of visual words in python [here](https://medium.com/@aybukeyalcinerr/bag-of-visual-words-bovw-db9500331b2f)\n",
    "\n",
    "\n",
    "### Visual Vocabulary Building"
   ]
  },
  {
   "cell_type": "code",
   "execution_count": 61,
   "metadata": {},
   "outputs": [],
   "source": [
    "imagePaths = list(list_images('./data/sample/train'))\n",
    "img = cv.imread(imagePaths[0])"
   ]
  },
  {
   "cell_type": "code",
   "execution_count": 66,
   "metadata": {},
   "outputs": [],
   "source": [
    "import cv2\n",
    "import imutils \n",
    "import numpy as np\n",
    "import os\n",
    "from sklearn.cluster import KMeans\n",
    "\n",
    "# Here you have to extract SIFT features on all images of the training set and to make a k-means clustering to build the visual vocabulary.\n",
    "\n",
    "\n",
    "# Get the path of the training set\n",
    "\n",
    "\n",
    "# Get all the path to the images and save them in a list\n",
    "\n",
    "imagePaths = list(list_images('./data/sample/train'))\n",
    "\n",
    "# image_paths and the corresponding label in image_classes\n",
    "image_paths = imagePaths\n",
    "\n",
    "image_classes = [ (path.split('/')[-1]).split('.')[-3] for path in imagePaths]\n",
    "\n",
    "# Create feature extraction and keypoint detector objects using opencv \n",
    "images =[]\n",
    "des_list = []\n",
    "kp_list = []\n",
    "for imgs in imagePaths:\n",
    "    img = cv.imread(imgs)\n",
    "    gray = cv.cvtColor(img, cv.COLOR_BGR2GRAY)\n",
    "    sift = cv.SIFT_create()\n",
    "    kp, des = sift.detectAndCompute(gray,None)\n",
    "    images.append(gray)\n",
    "    des_list.append(des)\n",
    "    kp_list.append(kp)\n"
   ]
  },
  {
   "cell_type": "code",
   "execution_count": 68,
   "metadata": {},
   "outputs": [
    {
     "output_type": "error",
     "ename": "ValueError",
     "evalue": "too many values to unpack (expected 2)",
     "traceback": [
      "\u001b[0;31m---------------------------------------------------------------------------\u001b[0m",
      "\u001b[0;31mValueError\u001b[0m                                Traceback (most recent call last)",
      "\u001b[0;32m<ipython-input-68-aaa5f3c03cef>\u001b[0m in \u001b[0;36m<module>\u001b[0;34m\u001b[0m\n\u001b[1;32m      1\u001b[0m \u001b[0;31m# Stack all the descriptors vertically in a numpy array\u001b[0m\u001b[0;34m\u001b[0m\u001b[0;34m\u001b[0m\u001b[0;34m\u001b[0m\u001b[0m\n\u001b[1;32m      2\u001b[0m \u001b[0mdescriptors\u001b[0m \u001b[0;34m=\u001b[0m \u001b[0mdes_list\u001b[0m\u001b[0;34m[\u001b[0m\u001b[0;36m0\u001b[0m\u001b[0;34m]\u001b[0m\u001b[0;34m[\u001b[0m\u001b[0;36m1\u001b[0m\u001b[0;34m]\u001b[0m\u001b[0;34m\u001b[0m\u001b[0;34m\u001b[0m\u001b[0m\n\u001b[0;32m----> 3\u001b[0;31m \u001b[0;32mfor\u001b[0m \u001b[0mimage_path\u001b[0m\u001b[0;34m,\u001b[0m \u001b[0mdescriptor\u001b[0m \u001b[0;32min\u001b[0m \u001b[0mdes_list\u001b[0m\u001b[0;34m[\u001b[0m\u001b[0;36m1\u001b[0m\u001b[0;34m:\u001b[0m\u001b[0;34m]\u001b[0m\u001b[0;34m:\u001b[0m\u001b[0;34m\u001b[0m\u001b[0;34m\u001b[0m\u001b[0m\n\u001b[0m\u001b[1;32m      4\u001b[0m     \u001b[0mdescriptors\u001b[0m \u001b[0;34m=\u001b[0m \u001b[0mnp\u001b[0m\u001b[0;34m.\u001b[0m\u001b[0mvstack\u001b[0m\u001b[0;34m(\u001b[0m\u001b[0;34m(\u001b[0m\u001b[0mdescriptors\u001b[0m\u001b[0;34m,\u001b[0m \u001b[0mdescriptor\u001b[0m\u001b[0;34m)\u001b[0m\u001b[0;34m)\u001b[0m\u001b[0;34m\u001b[0m\u001b[0;34m\u001b[0m\u001b[0m\n\u001b[1;32m      5\u001b[0m \u001b[0;34m\u001b[0m\u001b[0m\n",
      "\u001b[0;31mValueError\u001b[0m: too many values to unpack (expected 2)"
     ]
    }
   ],
   "source": [
    "# Stack all the descriptors vertically in a numpy array\n",
    "descriptors = des_list[0][1]\n",
    "for image_path, descriptor in des_list[1:]:\n",
    "    descriptors = np.vstack((descriptors, descriptor))  \n",
    "\n",
    "# Perform k-means clustering\n",
    "k = 100\n",
    "# TO COMPLETE \n",
    "kmeans = KMeans(n_clusters = k, n_init=10)\n",
    "kmeans.fit(des_list)\n",
    "visual_words = kmeans.cluster_centers_ \n",
    "visual_words"
   ]
  },
  {
   "cell_type": "markdown",
   "metadata": {},
   "source": [
    "At the end of this first step, you have build your vocabulary of visual words. You will now use the vocabulary in order to build a representation of each image as a bag of visual words, i.e. each image will be described as an histogram of visual words.\n",
    "\n",
    "### BoVW pipeline \n",
    "Here you have to write the BoVW pipeline and to apply it to each image of the training dataset. "
   ]
  },
  {
   "cell_type": "code",
   "execution_count": 69,
   "metadata": {},
   "outputs": [],
   "source": [
    "import numpy as np\n",
    "import cv2\n",
    "import os\n",
    "from scipy import ndimage\n",
    "from scipy.spatial import distance\n",
    "from sklearn.cluster import KMeans\n",
    "from paths import *\n",
    "import matplotlib.pyplot as plt\n",
    "\n",
    "# takes all images and convert them to grayscale. \n",
    "# return a dictionary that holds all images category by category. \n",
    "def load_images_from_folder(folder):\n",
    "    images = {}\n",
    "    for filename in ['cats', 'dogs']:\n",
    "        category = []\n",
    "        path = os.path.join(folder, filename)\n",
    "        for cat in list_files(path):\n",
    "            img = cv2.imread(cat)      \n",
    "            img = cv2.cvtColor(img, cv2.COLOR_BGR2GRAY)\n",
    "            if img is not None:\n",
    "                category.append(img)\n",
    "            images[filename] = category\n",
    "\n",
    "\n",
    "\n",
    "    return images\n",
    "\n",
    "images = load_images_from_folder('./data/sample/train')  # take all images category by category \n",
    "valid = load_images_from_folder(\"./data/sample/valid\") # take test images\n",
    "\n"
   ]
  },
  {
   "cell_type": "code",
   "execution_count": 70,
   "metadata": {},
   "outputs": [
    {
     "output_type": "execute_result",
     "data": {
      "text/plain": "(-0.5, 499.5, 306.5, -0.5)"
     },
     "metadata": {},
     "execution_count": 70
    },
    {
     "output_type": "display_data",
     "data": {
      "text/plain": "<Figure size 432x288 with 1 Axes>",
      "image/svg+xml": "<?xml version=\"1.0\" encoding=\"utf-8\" standalone=\"no\"?>\n<!DOCTYPE svg PUBLIC \"-//W3C//DTD SVG 1.1//EN\"\n  \"http://www.w3.org/Graphics/SVG/1.1/DTD/svg11.dtd\">\n<!-- Created with matplotlib (https://matplotlib.org/) -->\n<svg height=\"219.9672pt\" version=\"1.1\" viewBox=\"0 0 349.2 219.9672\" width=\"349.2pt\" xmlns=\"http://www.w3.org/2000/svg\" xmlns:xlink=\"http://www.w3.org/1999/xlink\">\n <metadata>\n  <rdf:RDF xmlns:cc=\"http://creativecommons.org/ns#\" xmlns:dc=\"http://purl.org/dc/elements/1.1/\" xmlns:rdf=\"http://www.w3.org/1999/02/22-rdf-syntax-ns#\">\n   <cc:Work>\n    <dc:type rdf:resource=\"http://purl.org/dc/dcmitype/StillImage\"/>\n    <dc:date>2020-09-10T10:38:05.322893</dc:date>\n    <dc:format>image/svg+xml</dc:format>\n    <dc:creator>\n     <cc:Agent>\n      <dc:title>Matplotlib v3.3.1, https://matplotlib.org/</dc:title>\n     </cc:Agent>\n    </dc:creator>\n   </cc:Work>\n  </rdf:RDF>\n </metadata>\n <defs>\n  <style type=\"text/css\">*{stroke-linecap:butt;stroke-linejoin:round;}</style>\n </defs>\n <g id=\"figure_1\">\n  <g id=\"patch_1\">\n   <path d=\"M 0 219.9672 \nL 349.2 219.9672 \nL 349.2 0 \nL 0 0 \nz\n\" style=\"fill:none;\"/>\n  </g>\n  <g id=\"axes_1\">\n   <g clip-path=\"url(#p94eadfb773)\">\n    <image height=\"206\" id=\"image89529ed83c\" transform=\"scale(1 -1)translate(0 -206)\" width=\"335\" x=\"7.2\" xlink:href=\"data:image/png;base64,\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\" y=\"-6.7672\"/>\n   </g>\n  </g>\n </g>\n <defs>\n  <clipPath id=\"p94eadfb773\">\n   <rect height=\"205.5672\" width=\"334.8\" x=\"7.2\" y=\"7.2\"/>\n  </clipPath>\n </defs>\n</svg>\n",
      "image/png": "[encoded data removed]"
     },
     "metadata": {
      "needs_background": "light"
     }
    }
   ],
   "source": [
    "plt.imshow(images['cats'][0], cmap='gray')\n",
    "plt.axis('off')"
   ]
  },
  {
   "cell_type": "code",
   "execution_count": 76,
   "metadata": {},
   "outputs": [],
   "source": [
    "def sift_features(images):\n",
    "    sift_vectors = {}\n",
    "    descriptor_list = []\n",
    "    sift = cv2.xfeatures2d.SIFT_create()\n",
    "    for key,value in images.items():\n",
    "        features = []\n",
    "        for img in value:\n",
    "            kp, des = sift.detectAndCompute(img,None)\n",
    "           \n",
    "            \n",
    "            descriptor_list.extend(des)\n",
    "            features.append(des)\n",
    "        sift_vectors[key] = features\n",
    "    return [descriptor_list, sift_vectors]\n",
    "\n",
    "sifts = sift_features(images) \n",
    "# Takes the descriptor list which is unordered one\n",
    "descriptor_list = sifts[0] \n",
    "# Takes the sift features that is seperated class by class for train data\n",
    "all_bovw_feature = sifts[1] \n",
    "# Takes the sift features that is seperated class by class for test data\n",
    "test_bovw_feature = sift_features(valid)[1]"
   ]
  },
  {
   "cell_type": "code",
   "execution_count": 77,
   "metadata": {},
   "outputs": [],
   "source": [
    "def kmeans(k, descriptor_list):\n",
    "    kmeans = KMeans(n_clusters = k, n_init=10)\n",
    "    kmeans.fit(descriptor_list)\n",
    "    visual_words = kmeans.cluster_centers_ \n",
    "    return visual_words\n",
    "    \n",
    "# Takes the central points which is visual words    \n",
    "visual_words = kmeans(150, descriptor_list)"
   ]
  },
  {
   "cell_type": "code",
   "execution_count": 79,
   "metadata": {},
   "outputs": [
    {
     "output_type": "error",
     "ename": "NameError",
     "evalue": "name 'find_index' is not defined",
     "traceback": [
      "\u001b[0;31m---------------------------------------------------------------------------\u001b[0m",
      "\u001b[0;31mNameError\u001b[0m                                 Traceback (most recent call last)",
      "\u001b[0;32m<ipython-input-79-f19ea720a966>\u001b[0m in \u001b[0;36m<module>\u001b[0;34m\u001b[0m\n\u001b[1;32m     13\u001b[0m \u001b[0;34m\u001b[0m\u001b[0m\n\u001b[1;32m     14\u001b[0m \u001b[0;31m# Creates histograms for train data\u001b[0m\u001b[0;34m\u001b[0m\u001b[0;34m\u001b[0m\u001b[0;34m\u001b[0m\u001b[0m\n\u001b[0;32m---> 15\u001b[0;31m \u001b[0mbovw_train\u001b[0m \u001b[0;34m=\u001b[0m \u001b[0mimage_class\u001b[0m\u001b[0;34m(\u001b[0m\u001b[0mall_bovw_feature\u001b[0m\u001b[0;34m,\u001b[0m \u001b[0mvisual_words\u001b[0m\u001b[0;34m)\u001b[0m\u001b[0;34m\u001b[0m\u001b[0;34m\u001b[0m\u001b[0m\n\u001b[0m\u001b[1;32m     16\u001b[0m \u001b[0;31m# Creates histograms for test data\u001b[0m\u001b[0;34m\u001b[0m\u001b[0;34m\u001b[0m\u001b[0;34m\u001b[0m\u001b[0m\n\u001b[1;32m     17\u001b[0m \u001b[0mbovw_test\u001b[0m \u001b[0;34m=\u001b[0m \u001b[0mimage_class\u001b[0m\u001b[0;34m(\u001b[0m\u001b[0mtest_bovw_feature\u001b[0m\u001b[0;34m,\u001b[0m \u001b[0mvisual_words\u001b[0m\u001b[0;34m)\u001b[0m\u001b[0;34m\u001b[0m\u001b[0;34m\u001b[0m\u001b[0m\n",
      "\u001b[0;32m<ipython-input-79-f19ea720a966>\u001b[0m in \u001b[0;36mimage_class\u001b[0;34m(all_bovw, centers)\u001b[0m\n\u001b[1;32m      6\u001b[0m             \u001b[0mhistogram\u001b[0m \u001b[0;34m=\u001b[0m \u001b[0mnp\u001b[0m\u001b[0;34m.\u001b[0m\u001b[0mzeros\u001b[0m\u001b[0;34m(\u001b[0m\u001b[0mlen\u001b[0m\u001b[0;34m(\u001b[0m\u001b[0mcenters\u001b[0m\u001b[0;34m)\u001b[0m\u001b[0;34m)\u001b[0m\u001b[0;34m\u001b[0m\u001b[0;34m\u001b[0m\u001b[0m\n\u001b[1;32m      7\u001b[0m             \u001b[0;32mfor\u001b[0m \u001b[0meach_feature\u001b[0m \u001b[0;32min\u001b[0m \u001b[0mimg\u001b[0m\u001b[0;34m:\u001b[0m\u001b[0;34m\u001b[0m\u001b[0;34m\u001b[0m\u001b[0m\n\u001b[0;32m----> 8\u001b[0;31m                 \u001b[0mind\u001b[0m \u001b[0;34m=\u001b[0m \u001b[0mfind_index\u001b[0m\u001b[0;34m(\u001b[0m\u001b[0meach_feature\u001b[0m\u001b[0;34m,\u001b[0m \u001b[0mcenters\u001b[0m\u001b[0;34m)\u001b[0m\u001b[0;34m\u001b[0m\u001b[0;34m\u001b[0m\u001b[0m\n\u001b[0m\u001b[1;32m      9\u001b[0m                 \u001b[0mhistogram\u001b[0m\u001b[0;34m[\u001b[0m\u001b[0mind\u001b[0m\u001b[0;34m]\u001b[0m \u001b[0;34m+=\u001b[0m \u001b[0;36m1\u001b[0m\u001b[0;34m\u001b[0m\u001b[0;34m\u001b[0m\u001b[0m\n\u001b[1;32m     10\u001b[0m             \u001b[0mcategory\u001b[0m\u001b[0;34m.\u001b[0m\u001b[0mappend\u001b[0m\u001b[0;34m(\u001b[0m\u001b[0mhistogram\u001b[0m\u001b[0;34m)\u001b[0m\u001b[0;34m\u001b[0m\u001b[0;34m\u001b[0m\u001b[0m\n",
      "\u001b[0;31mNameError\u001b[0m: name 'find_index' is not defined"
     ]
    }
   ],
   "source": [
    "def image_class(all_bovw, centers):\n",
    "    dict_feature = {}\n",
    "    for key,value in all_bovw.items():\n",
    "        category = []\n",
    "        for img in value:\n",
    "            histogram = np.zeros(len(centers))\n",
    "            for each_feature in img:\n",
    "                ind = find_index(each_feature, centers)\n",
    "                histogram[ind] += 1\n",
    "            category.append(histogram)\n",
    "        dict_feature[key] = category\n",
    "    return dict_feature\n",
    "    \n",
    "# Creates histograms for train data    \n",
    "bovw_train = image_class(all_bovw_feature, visual_words) \n",
    "# Creates histograms for test data\n",
    "bovw_test = image_class(test_bovw_feature, visual_words)"
   ]
  },
  {
   "cell_type": "markdown",
   "metadata": {},
   "source": [
    "### Classification using the BoVW representation and linear SVMs\n",
    "\n",
    "Now, your objective is to train and test a dog and cat classifier using the BoVW representation and SVMs. The good practices of the Part 0 have to be used. \n",
    "Some references :\n",
    "\n",
    " + [http://scikit-learn.org/stable/modules/svm.html](http://scikit-learn.org/stable/modules/svm.html)\n",
    " + [http://scikit-learn.org/stable/auto_examples/classification/plot_digits_classification.html](http://scikit-learn.org/stable/auto_examples/classification/plot_digits_classification.html)\n",
    " + [http://scikit-learn.org/stable/auto_examples/classification/plot_classifier_comparison.html#sphx-glr-auto-examples-classification-plot-classifier-comparison-py](http://scikit-learn.org/stable/auto_examples/classification/plot_classifier_comparison.html#sphx-glr-auto-examples-classification-plot-classifier-comparison-py)"
   ]
  },
  {
   "cell_type": "code",
   "execution_count": 80,
   "metadata": {},
   "outputs": [
    {
     "output_type": "error",
     "ename": "NameError",
     "evalue": "name 'bovw_train' is not defined",
     "traceback": [
      "\u001b[0;31m---------------------------------------------------------------------------\u001b[0m",
      "\u001b[0;31mNameError\u001b[0m                                 Traceback (most recent call last)",
      "\u001b[0;32m<ipython-input-80-1f884b592c16>\u001b[0m in \u001b[0;36m<module>\u001b[0;34m\u001b[0m\n\u001b[1;32m     36\u001b[0m \u001b[0;34m\u001b[0m\u001b[0m\n\u001b[1;32m     37\u001b[0m \u001b[0;31m# Call the knn function\u001b[0m\u001b[0;34m\u001b[0m\u001b[0;34m\u001b[0m\u001b[0;34m\u001b[0m\u001b[0m\n\u001b[0;32m---> 38\u001b[0;31m \u001b[0mresults_bowl\u001b[0m \u001b[0;34m=\u001b[0m \u001b[0mknn\u001b[0m\u001b[0;34m(\u001b[0m\u001b[0mbovw_train\u001b[0m\u001b[0;34m,\u001b[0m \u001b[0mbovw_test\u001b[0m\u001b[0;34m)\u001b[0m\u001b[0;34m\u001b[0m\u001b[0;34m\u001b[0m\u001b[0m\n\u001b[0m",
      "\u001b[0;31mNameError\u001b[0m: name 'bovw_train' is not defined"
     ]
    }
   ],
   "source": [
    "from sklearn import svm #unused\n",
    "\n",
    "def knn(images, tests):\n",
    "    num_test = 0\n",
    "    correct_predict = 0\n",
    "    class_based = {}\n",
    "    \n",
    "    for test_key, test_val in tests.items():\n",
    "        class_based[test_key] = [0, 0] # [correct, all]\n",
    "        for tst in test_val:\n",
    "            predict_start = 0\n",
    "            #print(test_key)\n",
    "            minimum = 0\n",
    "            key = \"a\" #predicted\n",
    "            for train_key, train_val in images.items():\n",
    "                for train in train_val:\n",
    "                    if(predict_start == 0):\n",
    "                        minimum = distance.euclidean(tst, train)\n",
    "                        #minimum = L1_dist(tst,train)\n",
    "                        key = train_key\n",
    "                        predict_start += 1\n",
    "                    else:\n",
    "                        dist = distance.euclidean(tst, train)\n",
    "                        #dist = L1_dist(tst,train)\n",
    "                        if(dist < minimum):\n",
    "                            minimum = dist\n",
    "                            key = train_key\n",
    "            \n",
    "            if(test_key == key):\n",
    "                correct_predict += 1\n",
    "                class_based[test_key][0] += 1\n",
    "            num_test += 1\n",
    "            class_based[test_key][1] += 1\n",
    "            #print(minimum)\n",
    "    return [num_test, correct_predict, class_based]\n",
    "    \n",
    "# Call the knn function    \n",
    "results_bowl = knn(bovw_train, bovw_test)"
   ]
  },
  {
   "cell_type": "code",
   "execution_count": 81,
   "metadata": {},
   "outputs": [
    {
     "output_type": "error",
     "ename": "NameError",
     "evalue": "name 'results_bowl' is not defined",
     "traceback": [
      "\u001b[0;31m---------------------------------------------------------------------------\u001b[0m",
      "\u001b[0;31mNameError\u001b[0m                                 Traceback (most recent call last)",
      "\u001b[0;32m<ipython-input-81-e4283f0041e6>\u001b[0m in \u001b[0;36m<module>\u001b[0;34m\u001b[0m\n\u001b[1;32m      9\u001b[0m \u001b[0;34m\u001b[0m\u001b[0m\n\u001b[1;32m     10\u001b[0m \u001b[0;31m# Calculates the accuracies and write the results to the console.\u001b[0m\u001b[0;34m\u001b[0m\u001b[0;34m\u001b[0m\u001b[0;34m\u001b[0m\u001b[0m\n\u001b[0;32m---> 11\u001b[0;31m \u001b[0maccuracy\u001b[0m\u001b[0;34m(\u001b[0m\u001b[0mresults_bowl\u001b[0m\u001b[0;34m)\u001b[0m\u001b[0;34m\u001b[0m\u001b[0;34m\u001b[0m\u001b[0m\n\u001b[0m",
      "\u001b[0;31mNameError\u001b[0m: name 'results_bowl' is not defined"
     ]
    }
   ],
   "source": [
    "# Calculates the average accuracy and class based accuracies.  \n",
    "def accuracy(results):\n",
    "    avg_accuracy = (results[1] / results[0]) * 100\n",
    "    print(\"Average accuracy: %\" + str(avg_accuracy))\n",
    "    print(\"\\nClass based accuracies: \\n\")\n",
    "    for key,value in results[2].items():\n",
    "        acc = (value[0] / value[1]) * 100\n",
    "        print(key + \" : %\" + str(acc))\n",
    "        \n",
    "# Calculates the accuracies and write the results to the console.       \n",
    "accuracy(results_bowl)"
   ]
  },
  {
   "cell_type": "markdown",
   "metadata": {},
   "source": [
    "#### Summary of Part 2\n",
    "\n",
    "    \n",
    "+ <span style=\"background-color:lightgreen\">Introduction of classical **hand crafted feature representation** used in computer vision </span>.\n",
    "+ <span style=\"background-color:lightgreen\"> Knowledge on OpenCV.</span> \n",
    "+ <span style=\"background-color:lightgreen\"> Building of another **supervised machine learning basic pipeline** </span>\n",
    "+ <span style=\"background-color:lightgreen\"> A important family of classifiers **SVMs**</span>"
   ]
  },
  {
   "cell_type": "markdown",
   "metadata": {},
   "source": [
    "<span style=\"background-color:lightblue\"> You have finished the part 2 ! Complete the dashboard on the global MsTeams team.</span>"
   ]
  },
  {
   "cell_type": "markdown",
   "metadata": {},
   "source": [
    "## Part 3 : Using Convolutional Neural Networks\n",
    "\n",
    "In this part, you are going to use convolutional neural networks (CNNs) and deep learning in order to build your image classifier. You will use the [Keras framework](https://keras.io/) which is a high-level neural networks API, written in Python and capable of running on top of [TensorFlow](https://www.tensorflow.org/), [CNTK](https://github.com/Microsoft/CNTK), or [Theano](http://www.deeplearning.net/software/theano/). It was developed with a focus on enabling fast experimentation and as a consequence it is a good choice for this course. Various other frameworks are available and can also be used such as [Caffe framework](http://caffe.berkeleyvision.org/), [Torch](http://torch.ch/) or [DeepLearning4j](https://deeplearning4j.org/) among others. Another important deep learning framework is [pytorch](https://pytorch.org/).\n",
    "\n",
    "\n",
    "### Keras with sample data from the Dogs and cats recognition challenge\n",
    "\n",
    "In this part, you will have to use Keras in order to\n",
    " + Build and train a small network from scratch\n",
    " + Use the bottleneck features of a pre-trained network\n",
    " + Fine-tune the top layers of a pre-trained network\n",
    "\n",
    "The work will be done on a **sample dataset** (sampleDeep) of the initial Kaggle challenge that contains a training set composed of 1000 images of cats and 1000 images of dogs and a validation set, used to evaluate our models, that contains 400 additional samples from each class.\n",
    "\n",
    "At the end, you could apply this approach on the whole dataset but it will imply to have other computing ressources than just your own computer.\n",
    "\n"
   ]
  },
  {
   "cell_type": "markdown",
   "metadata": {},
   "source": [
    "#### Data preparation and loading\n",
    "\n",
    "As for the previous classifiers, data preparation is also required when working with convolutional neural networks and deep learning models. You will use the [*ImageDataGenerator class*](https://keras.io/preprocessing/image/) that defines the configuration for image data preparation but also for data augmentation, a step often necessary for deep learning. In the code below, you will have to create and configure an `ImageDataGenerator` and to fit it on your data. In this example, we will use the sample dataset of the Dogs and Cats challenge. We consider that you have a training directory and a validation directory setup in this manner :\n",
    "\n",
    "    train_dir/\n",
    "        dog/\n",
    "        cat/\n",
    "    val_dir/\n",
    "        dog/\n",
    "        cat\n",
    " This is the case of the `sampleDeep` dataset.\n",
    " "
   ]
  },
  {
   "cell_type": "code",
   "execution_count": 1,
   "metadata": {
    "tags": []
   },
   "outputs": [
    {
     "output_type": "stream",
     "name": "stdout",
     "text": "Found 2000 images belonging to 2 classes.\nFound 800 images belonging to 2 classes.\n"
    }
   ],
   "source": [
    "# without augmentation, only rescaling\n",
    "\n",
    "from keras.preprocessing.image import ImageDataGenerator\n",
    "\n",
    "# definition of the number of samples propagated through the network at each step\n",
    "batch_size = 16\n",
    "\n",
    "# dimensions of our images.\n",
    "img_width, img_height = 150, 150\n",
    "\n",
    "train_data_dir = 'data/sampleDeep/train'\n",
    "validation_data_dir = 'data/sampleDeep/valid'\n",
    "\n",
    "# create and configure an ImageDataGenerator for the training data with only rescaling to 0..1\n",
    "train_datagen =  ImageDataGenerator(rescale=1./255)\n",
    "\n",
    "train_generator = train_datagen.flow_from_directory(\n",
    "        train_data_dir,  # the target directory\n",
    "        target_size=(img_width, img_height),  # all images will be resized to 150x150\n",
    "        batch_size=batch_size) \n",
    " \n",
    "# create and configure an ImageDataGenerator for the validation data with only rescaling to 0..1\n",
    "test_datagen =  ImageDataGenerator(rescale=1./255)\n",
    "\n",
    "valid_generator = test_datagen.flow_from_directory(\n",
    "        validation_data_dir,  # the target directory\n",
    "        target_size=(img_width, img_height),  # all images will be resized to 150x150\n",
    "        batch_size=batch_size) \n",
    "\n"
   ]
  },
  {
   "cell_type": "markdown",
   "metadata": {},
   "source": [
    "Only few training examples are available in the `sampleDeep` dataset. In order to make the most of these training examples, a current approach is to **augment** them via a number of random transformations, so that our model would never see twice the exact same picture. This augmentation step helps prevent overfitting and helps the model generalize better.\n"
   ]
  },
  {
   "cell_type": "code",
   "execution_count": 84,
   "metadata": {
    "tags": []
   },
   "outputs": [
    {
     "output_type": "stream",
     "name": "stdout",
     "text": "Found 16 images belonging to 2 classes.\nFound 8 images belonging to 2 classes.\n"
    }
   ],
   "source": [
    "# with augmentation \n",
    "\n",
    "from keras.preprocessing.image import ImageDataGenerator\n",
    "from paths import *\n",
    "\n",
    "# definition of the number of samples propagated through the network at each step\n",
    "batch_size = 16\n",
    "\n",
    "# dimensions of our images.\n",
    "img_width, img_height = 150, 150\n",
    "\n",
    "train_data_dir = 'data/sample/train'\n",
    "validation_data_dir = 'data/sample/valid'\n",
    "\n",
    "# Create and configure an ImageDataGenerator for the training data\n",
    "# TO DO :  augmentation of the training data using rotation, horizontal and vertical shift, shearing tranformation, zooming \n",
    "\n",
    "data_generator = ImageDataGenerator(rotation_range=[-10, 10], width_shift_range=[-50, 50], height_shift_range=[-50, 50], shear_range=15, validation_split=0.25)\n",
    "\n",
    "train_generator = data_generator.flow_from_directory(\n",
    "    train_data_dir,\n",
    "    (img_width, img_height),\n",
    "    'rgb',\n",
    "    batch_size=batch_size\n",
    ")\n",
    "# TO COMPLETE\n",
    "\n",
    "# TO DO : Create and configure an ImageDataGenerator for the validation data\n",
    "# Only rescaling for validation data\n",
    "\n",
    "# TO COMPLETE\n",
    "valid_gen = ImageDataGenerator(rescale=1/255)\n",
    "valid_generator = valid_gen.flow_from_directory(\n",
    "    validation_data_dir,\n",
    "    (img_width, img_height),\n",
    "    'rgb',\n",
    "    batch_size=batch_size)"
   ]
  },
  {
   "cell_type": "markdown",
   "metadata": {},
   "source": [
    "## Build a model from scratch\n",
    "\n",
    "Models can be build easily with the Keras API. Here we will use the Sequential model API :\n",
    "+ [https://keras.io/getting-started/sequential-model-guide/](https://keras.io/getting-started/sequential-model-guide/)\n",
    "\n",
    "\n",
    "Here, you will build a convolutional neural network which is ,by design, one of the best models available for most \"perceptual\" problems (such as image classification), even with very little data to learn from.\n",
    "\n",
    "In the code below, you have to build a model composed of 3 convolution layers with a ReLU activation and followed by max-pooling layers.\n",
    "In order to write the code, have a look on the [documentation on the different kinds of layers available in Keras](https://keras.io/layers/about-keras-layers/)\n",
    "\n",
    "\n"
   ]
  },
  {
   "cell_type": "code",
   "execution_count": 85,
   "metadata": {},
   "outputs": [],
   "source": [
    "from keras.models import Sequential\n",
    "from keras.layers import Conv2D, MaxPooling2D\n",
    "from keras.layers import Activation, Dropout, Flatten, Dense\n",
    "from keras.optimizers import Adam, RMSprop\n",
    "from keras.metrics import categorical_crossentropy"
   ]
  },
  {
   "cell_type": "code",
   "execution_count": 86,
   "metadata": {},
   "outputs": [],
   "source": [
    "model = Sequential()\n",
    "\n",
    "# First convolutional layer\n",
    "\n",
    "model.add(Conv2D(2, 3, activation='relu'))\n",
    "model.add(MaxPooling2D(pool_size=(2, 2), strides=(1, 1)))\n",
    "\n",
    "# Second  convolutional layer\n",
    "model.add(Conv2D(4, 3, activation='relu'))\n",
    "model.add(MaxPooling2D(pool_size=(2, 2), strides=(1, 1)))\n",
    "\n",
    "# TO COMPLETE\n",
    " \n",
    "# Third convolutional layer    \n",
    "model.add(Conv2D(8, 3, activation='relu'))\n",
    "model.add(MaxPooling2D(pool_size=(2, 2), strides=(1, 1)))\n",
    "\n",
    "# TO COMPLETE\n",
    "model.add(Flatten())\n",
    "\n",
    "# Adding of two fully-connected layers \n",
    "model.add(Dense(16, activation='relu'))\n",
    "model.add(Dropout(0.2))\n",
    "# TO COMPLETE\n",
    "model.add(Dense(8, activation='relu'))\n",
    "model.add(Dense(0.2))\n",
    "# single unit and sigmoid activation, which is perfect for a binary classification. \n",
    "\n",
    "model.add(Dense(1))\n",
    "model.add(Activation('sigmoid'))\n",
    "\n",
    "# Use of the binary_crossentropy loss to train our model, of the rmsprop optimizer and the accuracy metrics\n",
    "\n",
    "model.compile(loss='binary_crossentropy', metrics='accuracy')\n",
    "# TO COMPLETE"
   ]
  },
  {
   "cell_type": "markdown",
   "metadata": {},
   "source": [
    "### Visualizing a model\n",
    "\n",
    "It may be sometimes useful to visualize in a schematic way a model architecture. You can do it with different approaches on Keras :\n",
    "\n",
    "+ using the `plot_model` built-in function : see [this small tutorial](https://www.machinecurve.com/index.php/2019/10/07/how-to-visualize-a-model-with-keras/) or the [official documentation](https://keras.io/api/utils/model_plotting_utils/).\n",
    "+ using [TensorBoard](https://www.tensorflow.org/tensorboard) if you are using the tensorflow backend on Keras. You can also find some documentations on this small [tutorial](https://www.machinecurve.com/index.php/2019/12/03/visualize-keras-models-overview-of-visualization-methods-tools/#visualizing-model-architecture-tensorboard)"
   ]
  },
  {
   "cell_type": "code",
   "execution_count": 91,
   "metadata": {
    "tags": []
   },
   "outputs": [
    {
     "output_type": "error",
     "ename": "NameError",
     "evalue": "name 'img_h' is not defined",
     "traceback": [
      "\u001b[0;31m---------------------------------------------------------------------------\u001b[0m",
      "\u001b[0;31mNameError\u001b[0m                                 Traceback (most recent call last)",
      "\u001b[0;32m<ipython-input-91-ca57f65a8343>\u001b[0m in \u001b[0;36m<module>\u001b[0;34m\u001b[0m\n\u001b[1;32m      3\u001b[0m \u001b[0;32mimport\u001b[0m \u001b[0mpydot\u001b[0m\u001b[0;34m\u001b[0m\u001b[0;34m\u001b[0m\u001b[0m\n\u001b[1;32m      4\u001b[0m \u001b[0;31m# Try the previous tools to display your model architecture.\u001b[0m\u001b[0;34m\u001b[0m\u001b[0;34m\u001b[0m\u001b[0;34m\u001b[0m\u001b[0m\n\u001b[0;32m----> 5\u001b[0;31m \u001b[0mmodel\u001b[0m\u001b[0;34m.\u001b[0m\u001b[0mbuild\u001b[0m\u001b[0;34m(\u001b[0m\u001b[0minput_shape\u001b[0m\u001b[0;34m=\u001b[0m\u001b[0;34m(\u001b[0m\u001b[0mbatch_size\u001b[0m\u001b[0;34m,\u001b[0m \u001b[0mimg_h\u001b[0m\u001b[0;34m,\u001b[0m \u001b[0mimg_w\u001b[0m\u001b[0;34m,\u001b[0m \u001b[0;36m3\u001b[0m\u001b[0;34m)\u001b[0m\u001b[0;34m)\u001b[0m\u001b[0;34m\u001b[0m\u001b[0;34m\u001b[0m\u001b[0m\n\u001b[0m\u001b[1;32m      6\u001b[0m \u001b[0mmodel\u001b[0m\u001b[0;34m.\u001b[0m\u001b[0msummary\u001b[0m\u001b[0;34m(\u001b[0m\u001b[0;34m)\u001b[0m\u001b[0;34m\u001b[0m\u001b[0;34m\u001b[0m\u001b[0m\n\u001b[1;32m      7\u001b[0m \u001b[0mplot_model\u001b[0m\u001b[0;34m(\u001b[0m\u001b[0mmodel\u001b[0m\u001b[0;34m)\u001b[0m\u001b[0;34m\u001b[0m\u001b[0;34m\u001b[0m\u001b[0m\n",
      "\u001b[0;31mNameError\u001b[0m: name 'img_h' is not defined"
     ]
    }
   ],
   "source": [
    "# TO DO\n",
    "from keras.utils import plot_model\n",
    "import pydot\n",
    "# Try the previous tools to display your model architecture.\n",
    "model.build(input_shape=(batch_size, img_h, img_w, 3))\n",
    "model.summary()\n",
    "plot_model(model)"
   ]
  },
  {
   "cell_type": "markdown",
   "metadata": {},
   "source": [
    "### Training a model\n",
    "\n",
    "We can now use some defined generators to train your build model."
   ]
  },
  {
   "cell_type": "code",
   "execution_count": 39,
   "metadata": {
    "tags": []
   },
   "outputs": [
    {
     "output_type": "stream",
     "name": "stdout",
     "text": "Found 2000 images belonging to 2 classes.\nFound 800 images belonging to 2 classes.\nEpoch 1/5\n"
    },
    {
     "output_type": "error",
     "ename": "ValueError",
     "evalue": "in user code:\n\n    /Users/ewen/dev/dty/DTY_september_2020/env/lib/python3.8/site-packages/tensorflow/python/keras/engine/training.py:806 train_function  *\n        return step_function(self, iterator)\n    /Users/ewen/dev/dty/DTY_september_2020/env/lib/python3.8/site-packages/tensorflow/python/keras/engine/training.py:796 step_function  **\n        outputs = model.distribute_strategy.run(run_step, args=(data,))\n    /Users/ewen/dev/dty/DTY_september_2020/env/lib/python3.8/site-packages/tensorflow/python/distribute/distribute_lib.py:1211 run\n        return self._extended.call_for_each_replica(fn, args=args, kwargs=kwargs)\n    /Users/ewen/dev/dty/DTY_september_2020/env/lib/python3.8/site-packages/tensorflow/python/distribute/distribute_lib.py:2585 call_for_each_replica\n        return self._call_for_each_replica(fn, args, kwargs)\n    /Users/ewen/dev/dty/DTY_september_2020/env/lib/python3.8/site-packages/tensorflow/python/distribute/distribute_lib.py:2945 _call_for_each_replica\n        return fn(*args, **kwargs)\n    /Users/ewen/dev/dty/DTY_september_2020/env/lib/python3.8/site-packages/tensorflow/python/keras/engine/training.py:789 run_step  **\n        outputs = model.train_step(data)\n    /Users/ewen/dev/dty/DTY_september_2020/env/lib/python3.8/site-packages/tensorflow/python/keras/engine/training.py:748 train_step\n        loss = self.compiled_loss(\n    /Users/ewen/dev/dty/DTY_september_2020/env/lib/python3.8/site-packages/tensorflow/python/keras/engine/compile_utils.py:204 __call__\n        loss_value = loss_obj(y_t, y_p, sample_weight=sw)\n    /Users/ewen/dev/dty/DTY_september_2020/env/lib/python3.8/site-packages/tensorflow/python/keras/losses.py:149 __call__\n        losses = ag_call(y_true, y_pred)\n    /Users/ewen/dev/dty/DTY_september_2020/env/lib/python3.8/site-packages/tensorflow/python/keras/losses.py:253 call  **\n        return ag_fn(y_true, y_pred, **self._fn_kwargs)\n    /Users/ewen/dev/dty/DTY_september_2020/env/lib/python3.8/site-packages/tensorflow/python/util/dispatch.py:201 wrapper\n        return target(*args, **kwargs)\n    /Users/ewen/dev/dty/DTY_september_2020/env/lib/python3.8/site-packages/tensorflow/python/keras/losses.py:1605 binary_crossentropy\n        K.binary_crossentropy(y_true, y_pred, from_logits=from_logits), axis=-1)\n    /Users/ewen/dev/dty/DTY_september_2020/env/lib/python3.8/site-packages/tensorflow/python/util/dispatch.py:201 wrapper\n        return target(*args, **kwargs)\n    /Users/ewen/dev/dty/DTY_september_2020/env/lib/python3.8/site-packages/tensorflow/python/keras/backend.py:4823 binary_crossentropy\n        return nn.sigmoid_cross_entropy_with_logits(labels=target, logits=output)\n    /Users/ewen/dev/dty/DTY_september_2020/env/lib/python3.8/site-packages/tensorflow/python/util/dispatch.py:201 wrapper\n        return target(*args, **kwargs)\n    /Users/ewen/dev/dty/DTY_september_2020/env/lib/python3.8/site-packages/tensorflow/python/ops/nn_impl.py:173 sigmoid_cross_entropy_with_logits\n        raise ValueError(\"logits and labels must have the same shape (%s vs %s)\" %\n\n    ValueError: logits and labels must have the same shape ((None, 144, 144, 1) vs (None, 1))\n",
     "traceback": [
      "\u001b[0;31m---------------------------------------------------------------------------\u001b[0m",
      "\u001b[0;31mValueError\u001b[0m                                Traceback (most recent call last)",
      "\u001b[0;32m<ipython-input-39-7dd9e45e1bb4>\u001b[0m in \u001b[0;36m<module>\u001b[0;34m\u001b[0m\n\u001b[1;32m     24\u001b[0m \u001b[0;34m\u001b[0m\u001b[0m\n\u001b[1;32m     25\u001b[0m \u001b[0;31m# model training\u001b[0m\u001b[0;34m\u001b[0m\u001b[0;34m\u001b[0m\u001b[0;34m\u001b[0m\u001b[0m\n\u001b[0;32m---> 26\u001b[0;31m model.fit(train_generator,\n\u001b[0m\u001b[1;32m     27\u001b[0m           \u001b[0mepochs\u001b[0m\u001b[0;34m=\u001b[0m\u001b[0;36m5\u001b[0m\u001b[0;34m,\u001b[0m\u001b[0;34m\u001b[0m\u001b[0;34m\u001b[0m\u001b[0m\n\u001b[1;32m     28\u001b[0m           verbose=2)\n",
      "\u001b[0;32m~/dev/dty/DTY_september_2020/env/lib/python3.8/site-packages/tensorflow/python/keras/engine/training.py\u001b[0m in \u001b[0;36m_method_wrapper\u001b[0;34m(self, *args, **kwargs)\u001b[0m\n\u001b[1;32m    106\u001b[0m   \u001b[0;32mdef\u001b[0m \u001b[0m_method_wrapper\u001b[0m\u001b[0;34m(\u001b[0m\u001b[0mself\u001b[0m\u001b[0;34m,\u001b[0m \u001b[0;34m*\u001b[0m\u001b[0margs\u001b[0m\u001b[0;34m,\u001b[0m \u001b[0;34m**\u001b[0m\u001b[0mkwargs\u001b[0m\u001b[0;34m)\u001b[0m\u001b[0;34m:\u001b[0m\u001b[0;34m\u001b[0m\u001b[0;34m\u001b[0m\u001b[0m\n\u001b[1;32m    107\u001b[0m     \u001b[0;32mif\u001b[0m \u001b[0;32mnot\u001b[0m \u001b[0mself\u001b[0m\u001b[0;34m.\u001b[0m\u001b[0m_in_multi_worker_mode\u001b[0m\u001b[0;34m(\u001b[0m\u001b[0;34m)\u001b[0m\u001b[0;34m:\u001b[0m  \u001b[0;31m# pylint: disable=protected-access\u001b[0m\u001b[0;34m\u001b[0m\u001b[0;34m\u001b[0m\u001b[0m\n\u001b[0;32m--> 108\u001b[0;31m       \u001b[0;32mreturn\u001b[0m \u001b[0mmethod\u001b[0m\u001b[0;34m(\u001b[0m\u001b[0mself\u001b[0m\u001b[0;34m,\u001b[0m \u001b[0;34m*\u001b[0m\u001b[0margs\u001b[0m\u001b[0;34m,\u001b[0m \u001b[0;34m**\u001b[0m\u001b[0mkwargs\u001b[0m\u001b[0;34m)\u001b[0m\u001b[0;34m\u001b[0m\u001b[0;34m\u001b[0m\u001b[0m\n\u001b[0m\u001b[1;32m    109\u001b[0m \u001b[0;34m\u001b[0m\u001b[0m\n\u001b[1;32m    110\u001b[0m     \u001b[0;31m# Running inside `run_distribute_coordinator` already.\u001b[0m\u001b[0;34m\u001b[0m\u001b[0;34m\u001b[0m\u001b[0;34m\u001b[0m\u001b[0m\n",
      "\u001b[0;32m~/dev/dty/DTY_september_2020/env/lib/python3.8/site-packages/tensorflow/python/keras/engine/training.py\u001b[0m in \u001b[0;36mfit\u001b[0;34m(self, x, y, batch_size, epochs, verbose, callbacks, validation_split, validation_data, shuffle, class_weight, sample_weight, initial_epoch, steps_per_epoch, validation_steps, validation_batch_size, validation_freq, max_queue_size, workers, use_multiprocessing)\u001b[0m\n\u001b[1;32m   1096\u001b[0m                 batch_size=batch_size):\n\u001b[1;32m   1097\u001b[0m               \u001b[0mcallbacks\u001b[0m\u001b[0;34m.\u001b[0m\u001b[0mon_train_batch_begin\u001b[0m\u001b[0;34m(\u001b[0m\u001b[0mstep\u001b[0m\u001b[0;34m)\u001b[0m\u001b[0;34m\u001b[0m\u001b[0;34m\u001b[0m\u001b[0m\n\u001b[0;32m-> 1098\u001b[0;31m               \u001b[0mtmp_logs\u001b[0m \u001b[0;34m=\u001b[0m \u001b[0mtrain_function\u001b[0m\u001b[0;34m(\u001b[0m\u001b[0miterator\u001b[0m\u001b[0;34m)\u001b[0m\u001b[0;34m\u001b[0m\u001b[0;34m\u001b[0m\u001b[0m\n\u001b[0m\u001b[1;32m   1099\u001b[0m               \u001b[0;32mif\u001b[0m \u001b[0mdata_handler\u001b[0m\u001b[0;34m.\u001b[0m\u001b[0mshould_sync\u001b[0m\u001b[0;34m:\u001b[0m\u001b[0;34m\u001b[0m\u001b[0;34m\u001b[0m\u001b[0m\n\u001b[1;32m   1100\u001b[0m                 \u001b[0mcontext\u001b[0m\u001b[0;34m.\u001b[0m\u001b[0masync_wait\u001b[0m\u001b[0;34m(\u001b[0m\u001b[0;34m)\u001b[0m\u001b[0;34m\u001b[0m\u001b[0;34m\u001b[0m\u001b[0m\n",
      "\u001b[0;32m~/dev/dty/DTY_september_2020/env/lib/python3.8/site-packages/tensorflow/python/eager/def_function.py\u001b[0m in \u001b[0;36m__call__\u001b[0;34m(self, *args, **kwds)\u001b[0m\n\u001b[1;32m    778\u001b[0m       \u001b[0;32melse\u001b[0m\u001b[0;34m:\u001b[0m\u001b[0;34m\u001b[0m\u001b[0;34m\u001b[0m\u001b[0m\n\u001b[1;32m    779\u001b[0m         \u001b[0mcompiler\u001b[0m \u001b[0;34m=\u001b[0m \u001b[0;34m\"nonXla\"\u001b[0m\u001b[0;34m\u001b[0m\u001b[0;34m\u001b[0m\u001b[0m\n\u001b[0;32m--> 780\u001b[0;31m         \u001b[0mresult\u001b[0m \u001b[0;34m=\u001b[0m \u001b[0mself\u001b[0m\u001b[0;34m.\u001b[0m\u001b[0m_call\u001b[0m\u001b[0;34m(\u001b[0m\u001b[0;34m*\u001b[0m\u001b[0margs\u001b[0m\u001b[0;34m,\u001b[0m \u001b[0;34m**\u001b[0m\u001b[0mkwds\u001b[0m\u001b[0;34m)\u001b[0m\u001b[0;34m\u001b[0m\u001b[0;34m\u001b[0m\u001b[0m\n\u001b[0m\u001b[1;32m    781\u001b[0m \u001b[0;34m\u001b[0m\u001b[0m\n\u001b[1;32m    782\u001b[0m       \u001b[0mnew_tracing_count\u001b[0m \u001b[0;34m=\u001b[0m \u001b[0mself\u001b[0m\u001b[0;34m.\u001b[0m\u001b[0m_get_tracing_count\u001b[0m\u001b[0;34m(\u001b[0m\u001b[0;34m)\u001b[0m\u001b[0;34m\u001b[0m\u001b[0;34m\u001b[0m\u001b[0m\n",
      "\u001b[0;32m~/dev/dty/DTY_september_2020/env/lib/python3.8/site-packages/tensorflow/python/eager/def_function.py\u001b[0m in \u001b[0;36m_call\u001b[0;34m(self, *args, **kwds)\u001b[0m\n\u001b[1;32m    821\u001b[0m       \u001b[0;31m# This is the first call of __call__, so we have to initialize.\u001b[0m\u001b[0;34m\u001b[0m\u001b[0;34m\u001b[0m\u001b[0;34m\u001b[0m\u001b[0m\n\u001b[1;32m    822\u001b[0m       \u001b[0minitializers\u001b[0m \u001b[0;34m=\u001b[0m \u001b[0;34m[\u001b[0m\u001b[0;34m]\u001b[0m\u001b[0;34m\u001b[0m\u001b[0;34m\u001b[0m\u001b[0m\n\u001b[0;32m--> 823\u001b[0;31m       \u001b[0mself\u001b[0m\u001b[0;34m.\u001b[0m\u001b[0m_initialize\u001b[0m\u001b[0;34m(\u001b[0m\u001b[0margs\u001b[0m\u001b[0;34m,\u001b[0m \u001b[0mkwds\u001b[0m\u001b[0;34m,\u001b[0m \u001b[0madd_initializers_to\u001b[0m\u001b[0;34m=\u001b[0m\u001b[0minitializers\u001b[0m\u001b[0;34m)\u001b[0m\u001b[0;34m\u001b[0m\u001b[0;34m\u001b[0m\u001b[0m\n\u001b[0m\u001b[1;32m    824\u001b[0m     \u001b[0;32mfinally\u001b[0m\u001b[0;34m:\u001b[0m\u001b[0;34m\u001b[0m\u001b[0;34m\u001b[0m\u001b[0m\n\u001b[1;32m    825\u001b[0m       \u001b[0;31m# At this point we know that the initialization is complete (or less\u001b[0m\u001b[0;34m\u001b[0m\u001b[0;34m\u001b[0m\u001b[0;34m\u001b[0m\u001b[0m\n",
      "\u001b[0;32m~/dev/dty/DTY_september_2020/env/lib/python3.8/site-packages/tensorflow/python/eager/def_function.py\u001b[0m in \u001b[0;36m_initialize\u001b[0;34m(self, args, kwds, add_initializers_to)\u001b[0m\n\u001b[1;32m    694\u001b[0m     \u001b[0mself\u001b[0m\u001b[0;34m.\u001b[0m\u001b[0m_graph_deleter\u001b[0m \u001b[0;34m=\u001b[0m \u001b[0mFunctionDeleter\u001b[0m\u001b[0;34m(\u001b[0m\u001b[0mself\u001b[0m\u001b[0;34m.\u001b[0m\u001b[0m_lifted_initializer_graph\u001b[0m\u001b[0;34m)\u001b[0m\u001b[0;34m\u001b[0m\u001b[0;34m\u001b[0m\u001b[0m\n\u001b[1;32m    695\u001b[0m     self._concrete_stateful_fn = (\n\u001b[0;32m--> 696\u001b[0;31m         self._stateful_fn._get_concrete_function_internal_garbage_collected(  # pylint: disable=protected-access\n\u001b[0m\u001b[1;32m    697\u001b[0m             *args, **kwds))\n\u001b[1;32m    698\u001b[0m \u001b[0;34m\u001b[0m\u001b[0m\n",
      "\u001b[0;32m~/dev/dty/DTY_september_2020/env/lib/python3.8/site-packages/tensorflow/python/eager/function.py\u001b[0m in \u001b[0;36m_get_concrete_function_internal_garbage_collected\u001b[0;34m(self, *args, **kwargs)\u001b[0m\n\u001b[1;32m   2853\u001b[0m       \u001b[0margs\u001b[0m\u001b[0;34m,\u001b[0m \u001b[0mkwargs\u001b[0m \u001b[0;34m=\u001b[0m \u001b[0;32mNone\u001b[0m\u001b[0;34m,\u001b[0m \u001b[0;32mNone\u001b[0m\u001b[0;34m\u001b[0m\u001b[0;34m\u001b[0m\u001b[0m\n\u001b[1;32m   2854\u001b[0m     \u001b[0;32mwith\u001b[0m \u001b[0mself\u001b[0m\u001b[0;34m.\u001b[0m\u001b[0m_lock\u001b[0m\u001b[0;34m:\u001b[0m\u001b[0;34m\u001b[0m\u001b[0;34m\u001b[0m\u001b[0m\n\u001b[0;32m-> 2855\u001b[0;31m       \u001b[0mgraph_function\u001b[0m\u001b[0;34m,\u001b[0m \u001b[0m_\u001b[0m\u001b[0;34m,\u001b[0m \u001b[0m_\u001b[0m \u001b[0;34m=\u001b[0m \u001b[0mself\u001b[0m\u001b[0;34m.\u001b[0m\u001b[0m_maybe_define_function\u001b[0m\u001b[0;34m(\u001b[0m\u001b[0margs\u001b[0m\u001b[0;34m,\u001b[0m \u001b[0mkwargs\u001b[0m\u001b[0;34m)\u001b[0m\u001b[0;34m\u001b[0m\u001b[0;34m\u001b[0m\u001b[0m\n\u001b[0m\u001b[1;32m   2856\u001b[0m     \u001b[0;32mreturn\u001b[0m \u001b[0mgraph_function\u001b[0m\u001b[0;34m\u001b[0m\u001b[0;34m\u001b[0m\u001b[0m\n\u001b[1;32m   2857\u001b[0m \u001b[0;34m\u001b[0m\u001b[0m\n",
      "\u001b[0;32m~/dev/dty/DTY_september_2020/env/lib/python3.8/site-packages/tensorflow/python/eager/function.py\u001b[0m in \u001b[0;36m_maybe_define_function\u001b[0;34m(self, args, kwargs)\u001b[0m\n\u001b[1;32m   3211\u001b[0m \u001b[0;34m\u001b[0m\u001b[0m\n\u001b[1;32m   3212\u001b[0m       \u001b[0mself\u001b[0m\u001b[0;34m.\u001b[0m\u001b[0m_function_cache\u001b[0m\u001b[0;34m.\u001b[0m\u001b[0mmissed\u001b[0m\u001b[0;34m.\u001b[0m\u001b[0madd\u001b[0m\u001b[0;34m(\u001b[0m\u001b[0mcall_context_key\u001b[0m\u001b[0;34m)\u001b[0m\u001b[0;34m\u001b[0m\u001b[0;34m\u001b[0m\u001b[0m\n\u001b[0;32m-> 3213\u001b[0;31m       \u001b[0mgraph_function\u001b[0m \u001b[0;34m=\u001b[0m \u001b[0mself\u001b[0m\u001b[0;34m.\u001b[0m\u001b[0m_create_graph_function\u001b[0m\u001b[0;34m(\u001b[0m\u001b[0margs\u001b[0m\u001b[0;34m,\u001b[0m \u001b[0mkwargs\u001b[0m\u001b[0;34m)\u001b[0m\u001b[0;34m\u001b[0m\u001b[0;34m\u001b[0m\u001b[0m\n\u001b[0m\u001b[1;32m   3214\u001b[0m       \u001b[0mself\u001b[0m\u001b[0;34m.\u001b[0m\u001b[0m_function_cache\u001b[0m\u001b[0;34m.\u001b[0m\u001b[0mprimary\u001b[0m\u001b[0;34m[\u001b[0m\u001b[0mcache_key\u001b[0m\u001b[0;34m]\u001b[0m \u001b[0;34m=\u001b[0m \u001b[0mgraph_function\u001b[0m\u001b[0;34m\u001b[0m\u001b[0;34m\u001b[0m\u001b[0m\n\u001b[1;32m   3215\u001b[0m       \u001b[0;32mreturn\u001b[0m \u001b[0mgraph_function\u001b[0m\u001b[0;34m,\u001b[0m \u001b[0margs\u001b[0m\u001b[0;34m,\u001b[0m \u001b[0mkwargs\u001b[0m\u001b[0;34m\u001b[0m\u001b[0;34m\u001b[0m\u001b[0m\n",
      "\u001b[0;32m~/dev/dty/DTY_september_2020/env/lib/python3.8/site-packages/tensorflow/python/eager/function.py\u001b[0m in \u001b[0;36m_create_graph_function\u001b[0;34m(self, args, kwargs, override_flat_arg_shapes)\u001b[0m\n\u001b[1;32m   3063\u001b[0m     \u001b[0marg_names\u001b[0m \u001b[0;34m=\u001b[0m \u001b[0mbase_arg_names\u001b[0m \u001b[0;34m+\u001b[0m \u001b[0mmissing_arg_names\u001b[0m\u001b[0;34m\u001b[0m\u001b[0;34m\u001b[0m\u001b[0m\n\u001b[1;32m   3064\u001b[0m     graph_function = ConcreteFunction(\n\u001b[0;32m-> 3065\u001b[0;31m         func_graph_module.func_graph_from_py_func(\n\u001b[0m\u001b[1;32m   3066\u001b[0m             \u001b[0mself\u001b[0m\u001b[0;34m.\u001b[0m\u001b[0m_name\u001b[0m\u001b[0;34m,\u001b[0m\u001b[0;34m\u001b[0m\u001b[0;34m\u001b[0m\u001b[0m\n\u001b[1;32m   3067\u001b[0m             \u001b[0mself\u001b[0m\u001b[0;34m.\u001b[0m\u001b[0m_python_function\u001b[0m\u001b[0;34m,\u001b[0m\u001b[0;34m\u001b[0m\u001b[0;34m\u001b[0m\u001b[0m\n",
      "\u001b[0;32m~/dev/dty/DTY_september_2020/env/lib/python3.8/site-packages/tensorflow/python/framework/func_graph.py\u001b[0m in \u001b[0;36mfunc_graph_from_py_func\u001b[0;34m(name, python_func, args, kwargs, signature, func_graph, autograph, autograph_options, add_control_dependencies, arg_names, op_return_value, collections, capture_by_value, override_flat_arg_shapes)\u001b[0m\n\u001b[1;32m    984\u001b[0m         \u001b[0m_\u001b[0m\u001b[0;34m,\u001b[0m \u001b[0moriginal_func\u001b[0m \u001b[0;34m=\u001b[0m \u001b[0mtf_decorator\u001b[0m\u001b[0;34m.\u001b[0m\u001b[0munwrap\u001b[0m\u001b[0;34m(\u001b[0m\u001b[0mpython_func\u001b[0m\u001b[0;34m)\u001b[0m\u001b[0;34m\u001b[0m\u001b[0;34m\u001b[0m\u001b[0m\n\u001b[1;32m    985\u001b[0m \u001b[0;34m\u001b[0m\u001b[0m\n\u001b[0;32m--> 986\u001b[0;31m       \u001b[0mfunc_outputs\u001b[0m \u001b[0;34m=\u001b[0m \u001b[0mpython_func\u001b[0m\u001b[0;34m(\u001b[0m\u001b[0;34m*\u001b[0m\u001b[0mfunc_args\u001b[0m\u001b[0;34m,\u001b[0m \u001b[0;34m**\u001b[0m\u001b[0mfunc_kwargs\u001b[0m\u001b[0;34m)\u001b[0m\u001b[0;34m\u001b[0m\u001b[0;34m\u001b[0m\u001b[0m\n\u001b[0m\u001b[1;32m    987\u001b[0m \u001b[0;34m\u001b[0m\u001b[0m\n\u001b[1;32m    988\u001b[0m       \u001b[0;31m# invariant: `func_outputs` contains only Tensors, CompositeTensors,\u001b[0m\u001b[0;34m\u001b[0m\u001b[0;34m\u001b[0m\u001b[0;34m\u001b[0m\u001b[0m\n",
      "\u001b[0;32m~/dev/dty/DTY_september_2020/env/lib/python3.8/site-packages/tensorflow/python/eager/def_function.py\u001b[0m in \u001b[0;36mwrapped_fn\u001b[0;34m(*args, **kwds)\u001b[0m\n\u001b[1;32m    598\u001b[0m         \u001b[0;31m# __wrapped__ allows AutoGraph to swap in a converted function. We give\u001b[0m\u001b[0;34m\u001b[0m\u001b[0;34m\u001b[0m\u001b[0;34m\u001b[0m\u001b[0m\n\u001b[1;32m    599\u001b[0m         \u001b[0;31m# the function a weak reference to itself to avoid a reference cycle.\u001b[0m\u001b[0;34m\u001b[0m\u001b[0;34m\u001b[0m\u001b[0;34m\u001b[0m\u001b[0m\n\u001b[0;32m--> 600\u001b[0;31m         \u001b[0;32mreturn\u001b[0m \u001b[0mweak_wrapped_fn\u001b[0m\u001b[0;34m(\u001b[0m\u001b[0;34m)\u001b[0m\u001b[0;34m.\u001b[0m\u001b[0m__wrapped__\u001b[0m\u001b[0;34m(\u001b[0m\u001b[0;34m*\u001b[0m\u001b[0margs\u001b[0m\u001b[0;34m,\u001b[0m \u001b[0;34m**\u001b[0m\u001b[0mkwds\u001b[0m\u001b[0;34m)\u001b[0m\u001b[0;34m\u001b[0m\u001b[0;34m\u001b[0m\u001b[0m\n\u001b[0m\u001b[1;32m    601\u001b[0m     \u001b[0mweak_wrapped_fn\u001b[0m \u001b[0;34m=\u001b[0m \u001b[0mweakref\u001b[0m\u001b[0;34m.\u001b[0m\u001b[0mref\u001b[0m\u001b[0;34m(\u001b[0m\u001b[0mwrapped_fn\u001b[0m\u001b[0;34m)\u001b[0m\u001b[0;34m\u001b[0m\u001b[0;34m\u001b[0m\u001b[0m\n\u001b[1;32m    602\u001b[0m \u001b[0;34m\u001b[0m\u001b[0m\n",
      "\u001b[0;32m~/dev/dty/DTY_september_2020/env/lib/python3.8/site-packages/tensorflow/python/framework/func_graph.py\u001b[0m in \u001b[0;36mwrapper\u001b[0;34m(*args, **kwargs)\u001b[0m\n\u001b[1;32m    971\u001b[0m           \u001b[0;32mexcept\u001b[0m \u001b[0mException\u001b[0m \u001b[0;32mas\u001b[0m \u001b[0me\u001b[0m\u001b[0;34m:\u001b[0m  \u001b[0;31m# pylint:disable=broad-except\u001b[0m\u001b[0;34m\u001b[0m\u001b[0;34m\u001b[0m\u001b[0m\n\u001b[1;32m    972\u001b[0m             \u001b[0;32mif\u001b[0m \u001b[0mhasattr\u001b[0m\u001b[0;34m(\u001b[0m\u001b[0me\u001b[0m\u001b[0;34m,\u001b[0m \u001b[0;34m\"ag_error_metadata\"\u001b[0m\u001b[0;34m)\u001b[0m\u001b[0;34m:\u001b[0m\u001b[0;34m\u001b[0m\u001b[0;34m\u001b[0m\u001b[0m\n\u001b[0;32m--> 973\u001b[0;31m               \u001b[0;32mraise\u001b[0m \u001b[0me\u001b[0m\u001b[0;34m.\u001b[0m\u001b[0mag_error_metadata\u001b[0m\u001b[0;34m.\u001b[0m\u001b[0mto_exception\u001b[0m\u001b[0;34m(\u001b[0m\u001b[0me\u001b[0m\u001b[0;34m)\u001b[0m\u001b[0;34m\u001b[0m\u001b[0;34m\u001b[0m\u001b[0m\n\u001b[0m\u001b[1;32m    974\u001b[0m             \u001b[0;32melse\u001b[0m\u001b[0;34m:\u001b[0m\u001b[0;34m\u001b[0m\u001b[0;34m\u001b[0m\u001b[0m\n\u001b[1;32m    975\u001b[0m               \u001b[0;32mraise\u001b[0m\u001b[0;34m\u001b[0m\u001b[0;34m\u001b[0m\u001b[0m\n",
      "\u001b[0;31mValueError\u001b[0m: in user code:\n\n    /Users/ewen/dev/dty/DTY_september_2020/env/lib/python3.8/site-packages/tensorflow/python/keras/engine/training.py:806 train_function  *\n        return step_function(self, iterator)\n    /Users/ewen/dev/dty/DTY_september_2020/env/lib/python3.8/site-packages/tensorflow/python/keras/engine/training.py:796 step_function  **\n        outputs = model.distribute_strategy.run(run_step, args=(data,))\n    /Users/ewen/dev/dty/DTY_september_2020/env/lib/python3.8/site-packages/tensorflow/python/distribute/distribute_lib.py:1211 run\n        return self._extended.call_for_each_replica(fn, args=args, kwargs=kwargs)\n    /Users/ewen/dev/dty/DTY_september_2020/env/lib/python3.8/site-packages/tensorflow/python/distribute/distribute_lib.py:2585 call_for_each_replica\n        return self._call_for_each_replica(fn, args, kwargs)\n    /Users/ewen/dev/dty/DTY_september_2020/env/lib/python3.8/site-packages/tensorflow/python/distribute/distribute_lib.py:2945 _call_for_each_replica\n        return fn(*args, **kwargs)\n    /Users/ewen/dev/dty/DTY_september_2020/env/lib/python3.8/site-packages/tensorflow/python/keras/engine/training.py:789 run_step  **\n        outputs = model.train_step(data)\n    /Users/ewen/dev/dty/DTY_september_2020/env/lib/python3.8/site-packages/tensorflow/python/keras/engine/training.py:748 train_step\n        loss = self.compiled_loss(\n    /Users/ewen/dev/dty/DTY_september_2020/env/lib/python3.8/site-packages/tensorflow/python/keras/engine/compile_utils.py:204 __call__\n        loss_value = loss_obj(y_t, y_p, sample_weight=sw)\n    /Users/ewen/dev/dty/DTY_september_2020/env/lib/python3.8/site-packages/tensorflow/python/keras/losses.py:149 __call__\n        losses = ag_call(y_true, y_pred)\n    /Users/ewen/dev/dty/DTY_september_2020/env/lib/python3.8/site-packages/tensorflow/python/keras/losses.py:253 call  **\n        return ag_fn(y_true, y_pred, **self._fn_kwargs)\n    /Users/ewen/dev/dty/DTY_september_2020/env/lib/python3.8/site-packages/tensorflow/python/util/dispatch.py:201 wrapper\n        return target(*args, **kwargs)\n    /Users/ewen/dev/dty/DTY_september_2020/env/lib/python3.8/site-packages/tensorflow/python/keras/losses.py:1605 binary_crossentropy\n        K.binary_crossentropy(y_true, y_pred, from_logits=from_logits), axis=-1)\n    /Users/ewen/dev/dty/DTY_september_2020/env/lib/python3.8/site-packages/tensorflow/python/util/dispatch.py:201 wrapper\n        return target(*args, **kwargs)\n    /Users/ewen/dev/dty/DTY_september_2020/env/lib/python3.8/site-packages/tensorflow/python/keras/backend.py:4823 binary_crossentropy\n        return nn.sigmoid_cross_entropy_with_logits(labels=target, logits=output)\n    /Users/ewen/dev/dty/DTY_september_2020/env/lib/python3.8/site-packages/tensorflow/python/util/dispatch.py:201 wrapper\n        return target(*args, **kwargs)\n    /Users/ewen/dev/dty/DTY_september_2020/env/lib/python3.8/site-packages/tensorflow/python/ops/nn_impl.py:173 sigmoid_cross_entropy_with_logits\n        raise ValueError(\"logits and labels must have the same shape (%s vs %s)\" %\n\n    ValueError: logits and labels must have the same shape ((None, 144, 144, 1) vs (None, 1))\n"
     ]
    }
   ],
   "source": [
    "# augmentation configuration use for training:\n",
    "train_datagen = ImageDataGenerator(\n",
    "    rescale=1. / 255,\n",
    "    shear_range=0.2,\n",
    "    zoom_range=0.2,\n",
    "    horizontal_flip=True)\n",
    "\n",
    "# augmentation configuration use for testing:\n",
    "# only rescaling\n",
    "test_datagen = ImageDataGenerator(rescale=1. / 255)\n",
    "\n",
    "# fit the generator to your data\n",
    "train_generator = train_datagen.flow_from_directory(\n",
    "    train_data_dir,\n",
    "    target_size=(img_width, img_height),\n",
    "    batch_size=batch_size,\n",
    "    class_mode='binary')\n",
    "\n",
    "validation_generator = test_datagen.flow_from_directory(\n",
    "    validation_data_dir,\n",
    "    target_size=(img_width, img_height),\n",
    "    batch_size=batch_size,\n",
    "    class_mode='binary')\n",
    "\n",
    "# model training\n",
    "model.fit(train_generator,\n",
    "          epochs=5,\n",
    "          verbose=2)\n",
    "\n",
    "# saving the learned model\n",
    "model.save_weights('first_try.h5')\n"
   ]
  },
  {
   "cell_type": "markdown",
   "metadata": {},
   "source": [
    "#### Carefully have a look on the results and on the diffferent metrics and their obtained values. What is your interpretation of the results ?"
   ]
  },
  {
   "cell_type": "markdown",
   "metadata": {},
   "source": [
    "You can now apply this model to any new image. For instance, in the code below, you have to apply the model on different images of the test dataset. "
   ]
  },
  {
   "cell_type": "code",
   "execution_count": 40,
   "metadata": {},
   "outputs": [
    {
     "output_type": "error",
     "ename": "FileNotFoundError",
     "evalue": "No such file: '/Users/ewen/dev/dty/DTY_september_2020/Lab2/data/DogCatChallenge/test1/10002.jpg'",
     "traceback": [
      "\u001b[0;31m---------------------------------------------------------------------------\u001b[0m",
      "\u001b[0;31mFileNotFoundError\u001b[0m                         Traceback (most recent call last)",
      "\u001b[0;32m<ipython-input-40-6a2cba065ba7>\u001b[0m in \u001b[0;36m<module>\u001b[0;34m\u001b[0m\n\u001b[1;32m      8\u001b[0m \u001b[0mimg_path\u001b[0m \u001b[0;34m=\u001b[0m \u001b[0;34m'data/DogCatChallenge/test1/10002.jpg'\u001b[0m\u001b[0;34m\u001b[0m\u001b[0;34m\u001b[0m\u001b[0m\n\u001b[1;32m      9\u001b[0m \u001b[0;34m\u001b[0m\u001b[0m\n\u001b[0;32m---> 10\u001b[0;31m \u001b[0mima\u001b[0m\u001b[0;34m=\u001b[0m\u001b[0mio\u001b[0m\u001b[0;34m.\u001b[0m\u001b[0mimread\u001b[0m\u001b[0;34m(\u001b[0m\u001b[0mimg_path\u001b[0m\u001b[0;34m)\u001b[0m\u001b[0;34m\u001b[0m\u001b[0;34m\u001b[0m\u001b[0m\n\u001b[0m\u001b[1;32m     11\u001b[0m \u001b[0mimshow\u001b[0m\u001b[0;34m(\u001b[0m\u001b[0mima\u001b[0m\u001b[0;34m)\u001b[0m\u001b[0;34m\u001b[0m\u001b[0;34m\u001b[0m\u001b[0m\n\u001b[1;32m     12\u001b[0m \u001b[0;34m\u001b[0m\u001b[0m\n",
      "\u001b[0;32m~/dev/dty/DTY_september_2020/env/lib/python3.8/site-packages/skimage/io/_io.py\u001b[0m in \u001b[0;36mimread\u001b[0;34m(fname, as_gray, plugin, **plugin_args)\u001b[0m\n\u001b[1;32m     46\u001b[0m \u001b[0;34m\u001b[0m\u001b[0m\n\u001b[1;32m     47\u001b[0m     \u001b[0;32mwith\u001b[0m \u001b[0mfile_or_url_context\u001b[0m\u001b[0;34m(\u001b[0m\u001b[0mfname\u001b[0m\u001b[0;34m)\u001b[0m \u001b[0;32mas\u001b[0m \u001b[0mfname\u001b[0m\u001b[0;34m:\u001b[0m\u001b[0;34m\u001b[0m\u001b[0;34m\u001b[0m\u001b[0m\n\u001b[0;32m---> 48\u001b[0;31m         \u001b[0mimg\u001b[0m \u001b[0;34m=\u001b[0m \u001b[0mcall_plugin\u001b[0m\u001b[0;34m(\u001b[0m\u001b[0;34m'imread'\u001b[0m\u001b[0;34m,\u001b[0m \u001b[0mfname\u001b[0m\u001b[0;34m,\u001b[0m \u001b[0mplugin\u001b[0m\u001b[0;34m=\u001b[0m\u001b[0mplugin\u001b[0m\u001b[0;34m,\u001b[0m \u001b[0;34m**\u001b[0m\u001b[0mplugin_args\u001b[0m\u001b[0;34m)\u001b[0m\u001b[0;34m\u001b[0m\u001b[0;34m\u001b[0m\u001b[0m\n\u001b[0m\u001b[1;32m     49\u001b[0m \u001b[0;34m\u001b[0m\u001b[0m\n\u001b[1;32m     50\u001b[0m     \u001b[0;32mif\u001b[0m \u001b[0;32mnot\u001b[0m \u001b[0mhasattr\u001b[0m\u001b[0;34m(\u001b[0m\u001b[0mimg\u001b[0m\u001b[0;34m,\u001b[0m \u001b[0;34m'ndim'\u001b[0m\u001b[0;34m)\u001b[0m\u001b[0;34m:\u001b[0m\u001b[0;34m\u001b[0m\u001b[0;34m\u001b[0m\u001b[0m\n",
      "\u001b[0;32m~/dev/dty/DTY_september_2020/env/lib/python3.8/site-packages/skimage/io/manage_plugins.py\u001b[0m in \u001b[0;36mcall_plugin\u001b[0;34m(kind, *args, **kwargs)\u001b[0m\n\u001b[1;32m    207\u001b[0m                                (plugin, kind))\n\u001b[1;32m    208\u001b[0m \u001b[0;34m\u001b[0m\u001b[0m\n\u001b[0;32m--> 209\u001b[0;31m     \u001b[0;32mreturn\u001b[0m \u001b[0mfunc\u001b[0m\u001b[0;34m(\u001b[0m\u001b[0;34m*\u001b[0m\u001b[0margs\u001b[0m\u001b[0;34m,\u001b[0m \u001b[0;34m**\u001b[0m\u001b[0mkwargs\u001b[0m\u001b[0;34m)\u001b[0m\u001b[0;34m\u001b[0m\u001b[0;34m\u001b[0m\u001b[0m\n\u001b[0m\u001b[1;32m    210\u001b[0m \u001b[0;34m\u001b[0m\u001b[0m\n\u001b[1;32m    211\u001b[0m \u001b[0;34m\u001b[0m\u001b[0m\n",
      "\u001b[0;32m~/dev/dty/DTY_september_2020/env/lib/python3.8/site-packages/skimage/io/_plugins/imageio_plugin.py\u001b[0m in \u001b[0;36mimread\u001b[0;34m(*args, **kwargs)\u001b[0m\n\u001b[1;32m      8\u001b[0m \u001b[0;34m@\u001b[0m\u001b[0mwraps\u001b[0m\u001b[0;34m(\u001b[0m\u001b[0mimageio_imread\u001b[0m\u001b[0;34m)\u001b[0m\u001b[0;34m\u001b[0m\u001b[0;34m\u001b[0m\u001b[0m\n\u001b[1;32m      9\u001b[0m \u001b[0;32mdef\u001b[0m \u001b[0mimread\u001b[0m\u001b[0;34m(\u001b[0m\u001b[0;34m*\u001b[0m\u001b[0margs\u001b[0m\u001b[0;34m,\u001b[0m \u001b[0;34m**\u001b[0m\u001b[0mkwargs\u001b[0m\u001b[0;34m)\u001b[0m\u001b[0;34m:\u001b[0m\u001b[0;34m\u001b[0m\u001b[0;34m\u001b[0m\u001b[0m\n\u001b[0;32m---> 10\u001b[0;31m     \u001b[0;32mreturn\u001b[0m \u001b[0mnp\u001b[0m\u001b[0;34m.\u001b[0m\u001b[0masarray\u001b[0m\u001b[0;34m(\u001b[0m\u001b[0mimageio_imread\u001b[0m\u001b[0;34m(\u001b[0m\u001b[0;34m*\u001b[0m\u001b[0margs\u001b[0m\u001b[0;34m,\u001b[0m \u001b[0;34m**\u001b[0m\u001b[0mkwargs\u001b[0m\u001b[0;34m)\u001b[0m\u001b[0;34m)\u001b[0m\u001b[0;34m\u001b[0m\u001b[0;34m\u001b[0m\u001b[0m\n\u001b[0m",
      "\u001b[0;32m~/dev/dty/DTY_september_2020/env/lib/python3.8/site-packages/imageio/core/functions.py\u001b[0m in \u001b[0;36mimread\u001b[0;34m(uri, format, **kwargs)\u001b[0m\n\u001b[1;32m    263\u001b[0m \u001b[0;34m\u001b[0m\u001b[0m\n\u001b[1;32m    264\u001b[0m     \u001b[0;31m# Get reader and read first\u001b[0m\u001b[0;34m\u001b[0m\u001b[0;34m\u001b[0m\u001b[0;34m\u001b[0m\u001b[0m\n\u001b[0;32m--> 265\u001b[0;31m     \u001b[0mreader\u001b[0m \u001b[0;34m=\u001b[0m \u001b[0mread\u001b[0m\u001b[0;34m(\u001b[0m\u001b[0muri\u001b[0m\u001b[0;34m,\u001b[0m \u001b[0mformat\u001b[0m\u001b[0;34m,\u001b[0m \u001b[0;34m\"i\"\u001b[0m\u001b[0;34m,\u001b[0m \u001b[0;34m**\u001b[0m\u001b[0mkwargs\u001b[0m\u001b[0;34m)\u001b[0m\u001b[0;34m\u001b[0m\u001b[0;34m\u001b[0m\u001b[0m\n\u001b[0m\u001b[1;32m    266\u001b[0m     \u001b[0;32mwith\u001b[0m \u001b[0mreader\u001b[0m\u001b[0;34m:\u001b[0m\u001b[0;34m\u001b[0m\u001b[0;34m\u001b[0m\u001b[0m\n\u001b[1;32m    267\u001b[0m         \u001b[0;32mreturn\u001b[0m \u001b[0mreader\u001b[0m\u001b[0;34m.\u001b[0m\u001b[0mget_data\u001b[0m\u001b[0;34m(\u001b[0m\u001b[0;36m0\u001b[0m\u001b[0;34m)\u001b[0m\u001b[0;34m\u001b[0m\u001b[0;34m\u001b[0m\u001b[0m\n",
      "\u001b[0;32m~/dev/dty/DTY_september_2020/env/lib/python3.8/site-packages/imageio/core/functions.py\u001b[0m in \u001b[0;36mget_reader\u001b[0;34m(uri, format, mode, **kwargs)\u001b[0m\n\u001b[1;32m    170\u001b[0m \u001b[0;34m\u001b[0m\u001b[0m\n\u001b[1;32m    171\u001b[0m     \u001b[0;31m# Create request object\u001b[0m\u001b[0;34m\u001b[0m\u001b[0;34m\u001b[0m\u001b[0;34m\u001b[0m\u001b[0m\n\u001b[0;32m--> 172\u001b[0;31m     \u001b[0mrequest\u001b[0m \u001b[0;34m=\u001b[0m \u001b[0mRequest\u001b[0m\u001b[0;34m(\u001b[0m\u001b[0muri\u001b[0m\u001b[0;34m,\u001b[0m \u001b[0;34m\"r\"\u001b[0m \u001b[0;34m+\u001b[0m \u001b[0mmode\u001b[0m\u001b[0;34m,\u001b[0m \u001b[0;34m**\u001b[0m\u001b[0mkwargs\u001b[0m\u001b[0;34m)\u001b[0m\u001b[0;34m\u001b[0m\u001b[0;34m\u001b[0m\u001b[0m\n\u001b[0m\u001b[1;32m    173\u001b[0m \u001b[0;34m\u001b[0m\u001b[0m\n\u001b[1;32m    174\u001b[0m     \u001b[0;31m# Get format\u001b[0m\u001b[0;34m\u001b[0m\u001b[0;34m\u001b[0m\u001b[0;34m\u001b[0m\u001b[0m\n",
      "\u001b[0;32m~/dev/dty/DTY_september_2020/env/lib/python3.8/site-packages/imageio/core/request.py\u001b[0m in \u001b[0;36m__init__\u001b[0;34m(self, uri, mode, **kwargs)\u001b[0m\n\u001b[1;32m    122\u001b[0m \u001b[0;34m\u001b[0m\u001b[0m\n\u001b[1;32m    123\u001b[0m         \u001b[0;31m# Parse what was given\u001b[0m\u001b[0;34m\u001b[0m\u001b[0;34m\u001b[0m\u001b[0;34m\u001b[0m\u001b[0m\n\u001b[0;32m--> 124\u001b[0;31m         \u001b[0mself\u001b[0m\u001b[0;34m.\u001b[0m\u001b[0m_parse_uri\u001b[0m\u001b[0;34m(\u001b[0m\u001b[0muri\u001b[0m\u001b[0;34m)\u001b[0m\u001b[0;34m\u001b[0m\u001b[0;34m\u001b[0m\u001b[0m\n\u001b[0m\u001b[1;32m    125\u001b[0m \u001b[0;34m\u001b[0m\u001b[0m\n\u001b[1;32m    126\u001b[0m         \u001b[0;31m# Set extension\u001b[0m\u001b[0;34m\u001b[0m\u001b[0;34m\u001b[0m\u001b[0;34m\u001b[0m\u001b[0m\n",
      "\u001b[0;32m~/dev/dty/DTY_september_2020/env/lib/python3.8/site-packages/imageio/core/request.py\u001b[0m in \u001b[0;36m_parse_uri\u001b[0;34m(self, uri)\u001b[0m\n\u001b[1;32m    258\u001b[0m                 \u001b[0;31m# Reading: check that the file exists (but is allowed a dir)\u001b[0m\u001b[0;34m\u001b[0m\u001b[0;34m\u001b[0m\u001b[0;34m\u001b[0m\u001b[0m\n\u001b[1;32m    259\u001b[0m                 \u001b[0;32mif\u001b[0m \u001b[0;32mnot\u001b[0m \u001b[0mos\u001b[0m\u001b[0;34m.\u001b[0m\u001b[0mpath\u001b[0m\u001b[0;34m.\u001b[0m\u001b[0mexists\u001b[0m\u001b[0;34m(\u001b[0m\u001b[0mfn\u001b[0m\u001b[0;34m)\u001b[0m\u001b[0;34m:\u001b[0m\u001b[0;34m\u001b[0m\u001b[0;34m\u001b[0m\u001b[0m\n\u001b[0;32m--> 260\u001b[0;31m                     \u001b[0;32mraise\u001b[0m \u001b[0mFileNotFoundError\u001b[0m\u001b[0;34m(\u001b[0m\u001b[0;34m\"No such file: '%s'\"\u001b[0m \u001b[0;34m%\u001b[0m \u001b[0mfn\u001b[0m\u001b[0;34m)\u001b[0m\u001b[0;34m\u001b[0m\u001b[0;34m\u001b[0m\u001b[0m\n\u001b[0m\u001b[1;32m    261\u001b[0m             \u001b[0;32melse\u001b[0m\u001b[0;34m:\u001b[0m\u001b[0;34m\u001b[0m\u001b[0;34m\u001b[0m\u001b[0m\n\u001b[1;32m    262\u001b[0m                 \u001b[0;31m# Writing: check that the directory to write to does exist\u001b[0m\u001b[0;34m\u001b[0m\u001b[0;34m\u001b[0m\u001b[0;34m\u001b[0m\u001b[0m\n",
      "\u001b[0;31mFileNotFoundError\u001b[0m: No such file: '/Users/ewen/dev/dty/DTY_september_2020/Lab2/data/DogCatChallenge/test1/10002.jpg'"
     ]
    }
   ],
   "source": [
    "%matplotlib inline\n",
    "\n",
    "from skimage import data, io\n",
    "from matplotlib.pyplot import imshow\n",
    "from keras.preprocessing import image\n",
    "import numpy as np\n",
    "\n",
    "img_path = 'data/DogCatChallenge/test1/10002.jpg'\n",
    "\n",
    "ima=io.imread(img_path)\n",
    "imshow(ima)\n",
    "\n",
    "# image loading and transformation to keras\n",
    "\n",
    "# TO COMPLTE\n",
    "\n",
    "# prediction on the image\n",
    "print(\"Prediction\")\n",
    "\n",
    "# TO COMPLETE\n"
   ]
  },
  {
   "cell_type": "markdown",
   "metadata": {},
   "source": [
    "## Use a pretrained Convnet model\n",
    "\n",
    "In practice, very few people train an entire Convolutional Network from scratch (with random initialization), because it is relatively rare to have a dataset of sufficient size. Instead, in image classification, it is common to use networks pre-trained on a large dataset (such as ImageNet)  and to use it either as an initialization of as a fixed feature extractor for the task of interest (**transfer learning**). Indeed, these networks have already learned features that are useful for most computer vision problems, and leveraging such features would allow us to reach a better accuracy than any method that would only rely on the available data.\n",
    "\n",
    "Different strategies can be used in transfer learning scenarios :\n",
    "\n",
    "1. The ConvNet, trained on a large image dataset such as Imagenet, is used as a fixed feature extractor. In this case, the pipeline consists in taking the pre-trained ConvNet, removing the last fully connected layer and that by treating the rest of the ConvNet architecture as a fixed feature extractor for the new dataset\n",
    "2. Fine Tuning of the ConvNet. In this case,  the weights of a part of the pretrained network are fine-tuned by continuing the backpropagation. As it as been observed that the first features of a ConvNet contain more generic features (e.g. edge detectors or color blob detectors) that should be useful to many tasks and that later layers become progressively more specific to the details of the classes contained in the original dataset, only a higher portion of the network is fine-tuned.\n",
    "\n",
    "\n",
    "### ConvNet as a fixed feature extractor   \n",
    "\n",
    "In our case, the ImageNet dataset contains several \"cat\" classes (persian cat, siamese cat...) and many \"dog\" classes among its total of 1000 classes. As a consequence any model pre-trained on ImageNet will already have learned features that are relevant to our classification problem. \n",
    "\n",
    "In particular, we will use the VGG16 architecture which won the 2014 Imagenet competition, and is a very simple model to create and understand. The VGG Imagenet team created both a larger, slower, slightly more accurate model (VGG 19) and a smaller, faster model (VGG 16). We will be using VGG 16 since the much slower performance of VGG19 is generally not worth the very minor improvement in accuracy.\n",
    "\n",
    "![VGG16](images/vgg16.png)\n",
    "\n",
    "Source : [https://blog.heuritech.com/2016/02/29/a-brief-report-of-the-heuritech-deep-learning-meetup-5/](https://blog.heuritech.com/2016/02/29/a-brief-report-of-the-heuritech-deep-learning-meetup-5/)\n",
    "\n",
    "In the code below, the strategy will consist in instantiating only the convolutional part of the model (using the *include_top* argument) (see the [Keras documentation on VGG16](https://keras.io/applications/#vgg16)) and in running this model on our own training and validation data once by recording the output in two numpy arrays. Then, you will train a small fully-connected model on top of the stored features.\n",
    "\n",
    "Some references :\n",
    " + VGG models : [http://www.robots.ox.ac.uk/~vgg/research/very_deep/](http://www.robots.ox.ac.uk/~vgg/research/very_deep/)\n",
    " \n",
    "\n"
   ]
  },
  {
   "cell_type": "code",
   "execution_count": null,
   "metadata": {},
   "outputs": [],
   "source": [
    "import numpy as np\n",
    "from keras.preprocessing.image import ImageDataGenerator\n",
    "from keras.models import Sequential\n",
    "from keras.layers import Dropout, Flatten, Dense\n",
    "from keras import applications\n",
    "\n",
    "\n",
    "# dimensions of our images.\n",
    "img_width, img_height = 150, 150\n",
    "\n",
    "top_model_weights_path = 'bottleneck_fc_model.h5'\n",
    "train_data_dir = 'data/DogCatChallenge/sampleDeep/train'\n",
    "validation_data_dir = 'data/DogCatChallenge/sampleDeep/valid'\n",
    "nb_train_samples = 2000\n",
    "nb_validation_samples = 800\n",
    "epochs = 50\n",
    "batch_size = 16\n",
    "\n",
    "\n",
    "# Function that instanciates the convolutional part of the VGG16 pre-trained model on Imagenet and that runs it on our training and validation data\n",
    "\n",
    "def save_bottlebeck_features():\n",
    "    datagen = ImageDataGenerator(rescale=1. / 255)\n",
    "\n",
    "    # build and load the VGG16 network without the fully connected layers\n",
    "    # TO COMPLETE\n",
    "\n",
    "    # preparation of the training data\n",
    "    generator = datagen.flow_from_directory(\n",
    "        train_data_dir,\n",
    "        target_size=(img_width, img_height),\n",
    "        batch_size=batch_size,\n",
    "        class_mode=None,\n",
    "        shuffle=False)\n",
    "    \n",
    "    # Generation of the predictions for the input samples from the training data generator and return them as a numpy array that we can saved\n",
    "    bottleneck_features_train = # TO COMPLETE\n",
    "    np.save(open('bottleneck_features_train.npy', 'wb'),\n",
    "            bottleneck_features_train)\n",
    "\n",
    "    # preparation of the validation data\n",
    "    \n",
    "    # TO COMPLETE\n",
    "    \n",
    "    # Generation of the predictions for the input samples from the validation data generator and return them as a numpy array that we can saved\n",
    "    bottleneck_features_validation = # TO COMPLETE\n",
    "    np.save(open('bottleneck_features_validation.npy', 'wb'),\n",
    "            bottleneck_features_validation)\n",
    "\n",
    "    \n",
    "# Function that trains a small fully-connected model on top of the stored previous features\n",
    "    \n",
    "    \n",
    "def train_top_model():\n",
    "    train_data = np.load(open('bottleneck_features_train.npy','rb'))\n",
    "    train_labels = np.array(\n",
    "        [0] * (nb_train_samples // 2) + [1] * (nb_train_samples // 2))\n",
    "\n",
    "    validation_data = np.load(open('bottleneck_features_validation.npy','rb'))\n",
    "    validation_labels = np.array(\n",
    "        [0] * (nb_validation_samples // 2) + [1] * (nb_validation_samples // 2))\n",
    "\n",
    "    # Building of the small fully-connected model\n",
    "    \n",
    "    # TO COMPLETE\n",
    "    \n",
    "    # Configuration of the learning process\n",
    "    model.compile(optimizer='rmsprop',\n",
    "                  loss='binary_crossentropy', metrics=['accuracy'])\n",
    "\n",
    "    # Training of the model\n",
    "    # TO COMPLETE\n",
    "    \n",
    "save_bottlebeck_features()\n",
    "train_top_model()"
   ]
  },
  {
   "cell_type": "markdown",
   "metadata": {},
   "source": [
    "#### Carefully have a look on the results and on the diffferent metrics and their obtained values. What is your interpretation of the results ?\n",
    "Try to apply this model of some unknown images, even images without dogs ar cats."
   ]
  },
  {
   "cell_type": "markdown",
   "metadata": {},
   "source": [
    "## Fine-tuning the top layers of a a pre-trained network\n",
    "\n",
    "We will now try to \"fine-tune\" the last convolutional block of the VGG16 model. It consist in starting from a trained network (the VGG16 network), then re-training it on a new dataset using very small weight updates. In our case, this can be done in 3 steps:\n",
    "+ Instantiate the convolutional base of VGG16 and load its weights.\n",
    "+ Add our previously defined fully-connected model on top, and load its weights.\n",
    "+ Freeze the layers of the VGG16 model up to the last convolutional block\n"
   ]
  },
  {
   "cell_type": "code",
   "execution_count": null,
   "metadata": {},
   "outputs": [],
   "source": [
    "from keras import applications\n",
    "from keras import backend\n",
    "from keras.preprocessing.image import ImageDataGenerator\n",
    "from keras import optimizers\n",
    "from keras.models import Sequential\n",
    "from keras.layers import Dropout, Flatten, Dense\n",
    "import keras\n",
    "\n",
    "# path to the model weights files.\n",
    "weights_path = '../keras/examples/vgg16_weights.h5'\n",
    "top_model_weights_path = 'bottleneck_fc_model.h5'\n",
    "# dimensions of our images.\n",
    "img_width, img_height = 150, 150\n",
    "keras.backend.set_image_dim_ordering('tf')\n",
    "\n",
    "train_data_dir = 'data/DogCatChallenge/sampleDeep/train'\n",
    "validation_data_dir = 'data/DogCatChallenge/sampleDeep/valid'\n",
    "nb_train_samples = 2000\n",
    "nb_validation_samples = 800\n",
    "epochs = 50\n",
    "batch_size = 16\n",
    "\n",
    "# creation of the base VGG pre-trained model\n",
    "model = applications.VGG16(weights='imagenet', include_top=False, input_shape=(150,150,3))\n",
    "print('Model loaded.')\n",
    "\n",
    "# build a classifier model to put on top of the convolutional model\n",
    "top_model = Sequential()\n",
    "# TO COMPLETE\n",
    "\n",
    "# note that it is necessary to start with a fully-trained\n",
    "# classifier, including the top classifier,\n",
    "# in order to successfully do fine-tuning\n",
    "top_model.load_weights(top_model_weights_path)\n",
    "\n",
    "\n",
    "# creation of a real model from vgg\n",
    "new_model = Sequential()\n",
    "for l in model.layers:\n",
    "    new_model.add(l)\n",
    "\n",
    "\n",
    "# concatenation of the base model with the top model\n",
    "# TO COMPLETE\n",
    "\n",
    "\n",
    "# set the first 25 layers (up to the last conv block)\n",
    "# to non-trainable (weights will not be updated)\n",
    "\n",
    "# TO COMPLETE\n",
    "\n",
    "# compile the model with a SGD/momentum optimizer\n",
    "# and a very slow learning rate.\n",
    "new_model.compile(loss='binary_crossentropy',\n",
    "              optimizer=optimizers.SGD(lr=1e-4, momentum=0.9),\n",
    "              metrics=['accuracy'])\n",
    "\n",
    "# prepare data augmentation configuration\n",
    "train_datagen = ImageDataGenerator(\n",
    "    rescale=1. / 255,\n",
    "    shear_range=0.2,\n",
    "    zoom_range=0.2,\n",
    "    horizontal_flip=True)\n",
    "\n",
    "test_datagen = ImageDataGenerator(rescale=1. / 255)\n",
    "\n",
    "train_generator = train_datagen.flow_from_directory(\n",
    "    train_data_dir,\n",
    "    target_size=(img_height, img_width),\n",
    "    batch_size=batch_size,\n",
    "    class_mode='binary')\n",
    "\n",
    "validation_generator = test_datagen.flow_from_directory(\n",
    "    validation_data_dir,\n",
    "    target_size=(img_height, img_width),\n",
    "    batch_size=batch_size,\n",
    "    class_mode='binary')\n",
    "\n",
    "# fine-tune the model\n",
    "\n",
    "# TO COMPLETE\n"
   ]
  },
  {
   "cell_type": "markdown",
   "metadata": {},
   "source": [
    "#### Carefully have a look on the results and on the diffferent metrics and their obtained values. What is your interpretation of the results ?\n",
    "Try to apply this model of some unknown images, even images without dogs ar cats."
   ]
  },
  {
   "cell_type": "markdown",
   "metadata": {},
   "source": [
    "#### Summary of Part 3\n",
    "\n",
    "    \n",
    "+ <span style=\"background-color:lightgreen\">Introduction to representation learning </span>.\n",
    "+ <span style=\"background-color:lightgreen\"> Introduction to deep learning and CNN.</span> \n",
    "+ <span style=\"background-color:lightgreen\"> Practice on Keras </span>\n",
    "+ <span style=\"background-color:lightgreen\"> Introduction to transfer learning and fine tuning </span>"
   ]
  },
  {
   "cell_type": "markdown",
   "metadata": {},
   "source": [
    "<span style=\"background-color:lightblue\"> You have finished the part 2 ! Complete the dashboard on the global MsTeams team.</span>"
   ]
  },
  {
   "cell_type": "markdown",
   "metadata": {},
   "source": [
    "## Opening the black box [Optional]\n",
    "\n",
    "Deep neural network models are often considered as  black-boxes and their performances come at the price of loss of interpretability. Indeed, they fail to provide explanations on their predictions. In high-risk domains, e.g., health care, or in a context of production, it is crucial to build trust in a model and being able to understand its behavior. This sub-fied of artificial intelligence is known as XAI (eXplainable Artificial Intelligence) (see for instance this [tutorial](https://sites.google.com/view/www20-explainable-ai-tutorial) or the DARPA initiative [here](https://www.darpa.mil/attachments/XAIProgramUpdate.pdf)).\n",
    "\n",
    "In particular different approaches are now well established as tools to explain a model or a model decision. You can test them on your different classification models.\n",
    "\n"
   ]
  },
  {
   "cell_type": "markdown",
   "metadata": {},
   "source": [
    "#### Activation Maximization\n",
    "\n",
    "See this [tutorial](https://www.machinecurve.com/index.php/2019/11/18/visualizing-keras-model-inputs-with-activation-maximization/) to test it on your models.\n"
   ]
  },
  {
   "cell_type": "code",
   "execution_count": null,
   "metadata": {},
   "outputs": [],
   "source": [
    "# TO DO\n",
    "# Activation maximization on your models.\n",
    "\n",
    "\n"
   ]
  },
  {
   "cell_type": "markdown",
   "metadata": {},
   "source": [
    "#### Saliency maps\n",
    "\n",
    "See this [tutorial](https://www.machinecurve.com/index.php/2019/11/25/visualizing-keras-cnn-attention-saliency-maps/) to test it."
   ]
  },
  {
   "cell_type": "code",
   "execution_count": null,
   "metadata": {},
   "outputs": [],
   "source": [
    "# TO DO\n",
    "# Saliency maps on your models."
   ]
  },
  {
   "cell_type": "markdown",
   "metadata": {},
   "source": [
    "If you are interested to go deeper, a very nice tutorial is available [here](https://interpretablevision.github.io/)"
   ]
  },
  {
   "cell_type": "markdown",
   "metadata": {},
   "source": [
    "# Part 4 : Your turn on a more challenging case\n",
    "\n",
    "Do the same job but this time on the PET Dataset : [http://www.robots.ox.ac.uk/~vgg/data/pets/](http://www.robots.ox.ac.uk/~vgg/data/pets/) which contains 37 category of pets with roughly 200 images for each class."
   ]
  },
  {
   "cell_type": "markdown",
   "metadata": {},
   "source": [
    "# Sources and references\n",
    "\n",
    "+ This study case is inpired from the Lesson 1 of the fast.ai's online course, Practical Deep Learning For Coders : [http://course.fast.ai/](http://course.fast.ai/)\n",
    "+ Others sources :\n",
    "    + Stanford CS231n course on Convolutional Neural Networks for Visual Recognition : [http://cs231n.stanford.edu/](http://cs231n.stanford.edu/)\n",
    "    + Keras blog post on building image classification models [here](https://blog.keras.io/building-powerful-image-classification-models-using-very-little-data.html)"
   ]
  },
  {
   "cell_type": "code",
   "execution_count": null,
   "metadata": {},
   "outputs": [],
   "source": []
  }
 ],
 "metadata": {
  "kernelspec": {
   "display_name": "Python 3",
   "language": "python",
   "name": "python3"
  },
  "language_info": {
   "codemirror_mode": {
    "name": "ipython",
    "version": 3
   },
   "file_extension": ".py",
   "mimetype": "text/x-python",
   "name": "python",
   "nbconvert_exporter": "python",
   "pygments_lexer": "ipython3",
   "version": "3.8.5-final"
  }
 },
 "nbformat": 4,
 "nbformat_minor": 2
}